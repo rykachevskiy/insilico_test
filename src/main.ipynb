{
 "cells": [
  {
   "cell_type": "code",
   "execution_count": 38,
   "metadata": {},
   "outputs": [],
   "source": [
    "import numpy as np\n",
    "import pandas as pd\n",
    "import matplotlib.pyplot as plt\n",
    "\n",
    "import tensorflow as tf\n",
    "\n",
    "\n",
    "from IPython import display\n",
    "%matplotlib inline\n",
    "\n",
    "\n",
    "from sklearn.metrics import log_loss, accuracy_score, f1_score, classification_report, roc_auc_score, auc\n",
    "\n",
    "from sklearn.model_selection import KFold, train_test_split\n",
    "\n",
    "from tqdm import tqdm_notebook"
   ]
  },
  {
   "cell_type": "markdown",
   "metadata": {},
   "source": [
    "## Investigation"
   ]
  },
  {
   "cell_type": "code",
   "execution_count": 2,
   "metadata": {},
   "outputs": [
    {
     "data": {
      "text/plain": [
       "1.0    790\n",
       "0.0    315\n",
       "Name: y, dtype: int64"
      ]
     },
     "execution_count": 2,
     "metadata": {},
     "output_type": "execute_result"
    }
   ],
   "source": [
    "data = pd.read_csv(\"../data/train.csv\")\n",
    "data.y.value_counts()"
   ]
  },
  {
   "cell_type": "markdown",
   "metadata": {},
   "source": [
    "Значит имеем задачу классификации, классы не сбалансированы. <br/>\n",
    "В качестве метрики подойдет roc_auc или f1_score, они чувствительны к ошибкам в обоих классах, будем использовать f1_score. \n",
    "  \n",
    "Хотим сравнить модели отбора признаков, кандидаты следующие, глобально это либо линейные модели с улучшениями для отбора признаков, либо деревья:\n",
    "- линейные модели с elastic net или lasso прибавками к ошибке\n",
    "- DFS (сетка из статьи)\n",
    "\n",
    "- Случайный лес\n",
    "- AdaBoost (на деревьях)\n",
    "- Градиентный бустинг (тоже на деревьях)\n",
    "- LightGBM\n",
    "\n",
    "Зафиксируем сначала просто трейн\\тест разбиение, сохранив баланс классов, потом можно будет погонять кросс-валидацию на 3-5 фолдов."
   ]
  },
  {
   "cell_type": "code",
   "execution_count": 3,
   "metadata": {
    "scrolled": true
   },
   "outputs": [],
   "source": [
    "np.random.seed(239)"
   ]
  },
  {
   "cell_type": "code",
   "execution_count": 4,
   "metadata": {},
   "outputs": [],
   "source": [
    "X = data[data.columns[:-1]].values\n",
    "y = data.y.values"
   ]
  },
  {
   "cell_type": "code",
   "execution_count": 5,
   "metadata": {},
   "outputs": [],
   "source": [
    "X_tr, X_te, y_tr, y_te = train_test_split(X, y)"
   ]
  },
  {
   "cell_type": "code",
   "execution_count": 6,
   "metadata": {},
   "outputs": [
    {
     "name": "stdout",
     "output_type": "stream",
     "text": [
      "train:  0.714975845410628\n",
      "test:  0.7148014440433214\n",
      "all:  0.7149321266968326\n"
     ]
    }
   ],
   "source": [
    "## Check ballance\n",
    "print(\"train: \", y_tr.sum()/y_tr.shape[0])\n",
    "print(\"test: \", y_te.sum()/y_te.shape[0])\n",
    "print(\"all: \" , y.sum()/y.shape[0])"
   ]
  },
  {
   "cell_type": "markdown",
   "metadata": {},
   "source": [
    "Общий подход будет следующий:\n",
    "- Учим несколько моделей с разными параметрами на трейн сете\n",
    "- Вытаскиваем feature importances\n",
    "- Смотрим насколько параметры модели влияют на ранжирование фичей\n",
    "- Учим модели с разным количеством фичей, добавляя жадно от самой важной (это не обязательно лучшая стратегия, но быстрая)\n",
    "- Выбираем лучший набор фичей с точки зрения f1_score\n",
    "- Возможно подтюниваем параметры модели\n",
    "\n",
    "\n",
    "- Пробуем кросс валидацию на несколько фолдов"
   ]
  },
  {
   "cell_type": "markdown",
   "metadata": {},
   "source": [
    "## Tree based models"
   ]
  },
  {
   "cell_type": "markdown",
   "metadata": {},
   "source": [
    "#### Random Forest"
   ]
  },
  {
   "cell_type": "code",
   "execution_count": 9,
   "metadata": {},
   "outputs": [],
   "source": [
    "from sklearn.ensemble import RandomForestClassifier"
   ]
  },
  {
   "cell_type": "code",
   "execution_count": 52,
   "metadata": {},
   "outputs": [],
   "source": [
    "rf = RandomForestClassifier(100)\n",
    "rf.fit(X_tr, y_tr)\n",
    "rf_pred = rf.predict_proba(X_te)"
   ]
  },
  {
   "cell_type": "code",
   "execution_count": 53,
   "metadata": {
    "scrolled": true
   },
   "outputs": [
    {
     "name": "stdout",
     "output_type": "stream",
     "text": [
      "0.9447001662191535\n",
      "             precision    recall  f1-score   support\n",
      "\n",
      "        0.0       0.86      0.68      0.76        79\n",
      "        1.0       0.88      0.95      0.92       198\n",
      "\n",
      "avg / total       0.88      0.88      0.87       277\n",
      "\n"
     ]
    }
   ],
   "source": [
    "print(roc_auc_score(y_te, rf_pred[:,1]))\n",
    "print(classification_report(y_te, rf_pred[:,1] > 0.5))"
   ]
  },
  {
   "cell_type": "code",
   "execution_count": 54,
   "metadata": {
    "scrolled": true
   },
   "outputs": [
    {
     "data": {
      "image/png": "[encoded data removed]",
      "text/plain": [
       "<matplotlib.figure.Figure at 0x7f44868fee10>"
      ]
     },
     "metadata": {},
     "output_type": "display_data"
    }
   ],
   "source": [
    "f, (a1, a2) = plt.subplots(1,2,figsize=(15,5))\n",
    "a1.plot(sorted(rf.feature_importances_)[::-1][:], label = 'all features')\n",
    "a2.plot(np.log(sorted(rf.feature_importances_)[::-1][:100]), label = 'top 100 features, log importances')\n",
    "a1.legend()\n",
    "a2.legend()\n",
    "plt.show()"
   ]
  },
  {
   "cell_type": "markdown",
   "metadata": {},
   "source": [
    "Какого-то явного скачка не видно в графиках важности фичей."
   ]
  },
  {
   "cell_type": "code",
   "execution_count": 39,
   "metadata": {},
   "outputs": [],
   "source": [
    "def verify_model(model, X_tr, y_tr, X_te, y_te, feature_importances, metric, feature_range, step):\n",
    "    sorted_importances_args_r = np.argsort(feature_importances)[::-1]\n",
    "    \n",
    "    scores = np.zeros((2, (feature_range[1] - feature_range[0]) // step))\n",
    "    for i, top_features in tqdm_notebook(enumerate(range(feature_range[0], feature_range[1], step))):\n",
    "        mask = np.zeros(X.shape[1]).astype(bool)\n",
    "        mask[sorted_importances_args_r[:top_features]] = True\n",
    "        \n",
    "        model.fit(X_tr[:,mask], y_tr)\n",
    "        pred_proba = model.predict_proba(X_te[:,mask])[:,1]\n",
    "        \n",
    "        scores[0, i] = top_features\n",
    "        scores[1, i] = metric(y_te, pred_proba)\n",
    "        #print(top_features, metric(y_te, pred_proba))\n",
    "        #print(classification_report(y_te, rf_pred[:,1] > 0.5))\n",
    "    return scores"
   ]
  },
  {
   "cell_type": "code",
   "execution_count": 55,
   "metadata": {},
   "outputs": [
    {
     "data": {
      "application/vnd.jupyter.widget-view+json": {
       "model_id": "be9bfcc289c84b3eaf8f3e0248d15da6",
       "version_major": 2,
       "version_minor": 0
      },
      "text/plain": [
       "A Jupyter Widget"
      ]
     },
     "metadata": {},
     "output_type": "display_data"
    },
    {
     "name": "stdout",
     "output_type": "stream",
     "text": [
      "\n"
     ]
    }
   ],
   "source": [
    "rf_test = RandomForestClassifier(100)\n",
    "rf_scores = verify_model(rf_test, X_tr, y_tr, X_te, y_te, rf.feature_importances_, roc_auc_score, [1,60], 1)"
   ]
  },
  {
   "cell_type": "code",
   "execution_count": 56,
   "metadata": {
    "scrolled": false
   },
   "outputs": [
    {
     "data": {
      "text/plain": [
       "[<matplotlib.lines.Line2D at 0x7f448692d828>]"
      ]
     },
     "execution_count": 56,
     "metadata": {},
     "output_type": "execute_result"
    },
    {
     "data": {
      "image/png": "[encoded data removed]",
      "text/plain": [
       "<matplotlib.figure.Figure at 0x7f4486959438>"
      ]
     },
     "metadata": {},
     "output_type": "display_data"
    }
   ],
   "source": [
    "plt.plot(rf_scores[1])"
   ]
  },
  {
   "cell_type": "markdown",
   "metadata": {},
   "source": [
    "На глаз логичный порог в районе 15 фичей, хотя результат с 60-ю лучше. Для деревьев это нормально, даже незначительные фичи, могут дать небольшой прирост качества"
   ]
  },
  {
   "cell_type": "code",
   "execution_count": 57,
   "metadata": {},
   "outputs": [],
   "source": [
    "np.save(\"../storage/rf_feature_importances\", rf.feature_importances_)"
   ]
  },
  {
   "cell_type": "markdown",
   "metadata": {},
   "source": [
    "#### Gradient Boosting"
   ]
  },
  {
   "cell_type": "code",
   "execution_count": 45,
   "metadata": {},
   "outputs": [],
   "source": [
    "from sklearn.ensemble import GradientBoostingClassifier"
   ]
  },
  {
   "cell_type": "code",
   "execution_count": 60,
   "metadata": {},
   "outputs": [
    {
     "name": "stdout",
     "output_type": "stream",
     "text": [
      "      Iter       Train Loss   Remaining Time \n",
      "         1           1.0779           12.37s\n",
      "         2           0.9887           12.45s\n",
      "         3           0.9160           12.37s\n",
      "         4           0.8558           12.28s\n",
      "         5           0.8063           12.21s\n",
      "         6           0.7614           12.16s\n",
      "         7           0.7225           12.03s\n",
      "         8           0.6885           12.07s\n",
      "         9           0.6541           11.98s\n",
      "        10           0.6258           11.82s\n",
      "        20           0.4434           10.61s\n",
      "        30           0.3455            9.14s\n",
      "        40           0.2978            7.69s\n",
      "        50           0.2626            6.33s\n",
      "        60           0.2406            5.01s\n",
      "        70           0.2172            3.75s\n",
      "        80           0.1963            2.50s\n",
      "        90           0.1768            1.25s\n",
      "       100           0.1604            0.00s\n"
     ]
    }
   ],
   "source": [
    "gb = GradientBoostingClassifier(learning_rate=0.1, n_estimators=100, verbose=1)\n",
    "gb.fit(X_tr, y_tr)\n",
    "gb_pred = gb.predict_proba(X_te)"
   ]
  },
  {
   "cell_type": "code",
   "execution_count": 61,
   "metadata": {
    "scrolled": true
   },
   "outputs": [
    {
     "name": "stdout",
     "output_type": "stream",
     "text": [
      "0.92692750287687\n",
      "             precision    recall  f1-score   support\n",
      "\n",
      "        0.0       0.79      0.76      0.77        79\n",
      "        1.0       0.91      0.92      0.91       198\n",
      "\n",
      "avg / total       0.87      0.87      0.87       277\n",
      "\n"
     ]
    }
   ],
   "source": [
    "print(roc_auc_score(y_te, gb_pred[:,1]))\n",
    "print(classification_report(y_te, gb_pred[:,1] > 0.5))"
   ]
  },
  {
   "cell_type": "code",
   "execution_count": 66,
   "metadata": {
    "scrolled": false
   },
   "outputs": [
    {
     "data": {
      "image/png": "[encoded data removed]",
      "text/plain": [
       "<matplotlib.figure.Figure at 0x7f448d64ff28>"
      ]
     },
     "metadata": {},
     "output_type": "display_data"
    }
   ],
   "source": [
    "f, (a1, a2) = plt.subplots(1,2,figsize=(15,5))\n",
    "a1.plot(sorted(gb.feature_importances_)[::-1][:], label = 'all features')\n",
    "a2.plot(np.log(sorted(gb.feature_importances_)[::-1][:100]), label = 'top 100 features, log importances')\n",
    "a1.legend()\n",
    "a2.legend()\n",
    "plt.show()"
   ]
  },
  {
   "cell_type": "code",
   "execution_count": 67,
   "metadata": {},
   "outputs": [
    {
     "data": {
      "application/vnd.jupyter.widget-view+json": {
       "model_id": "bc35a8dc233f40c4b29551bf74eff1c2",
       "version_major": 2,
       "version_minor": 0
      },
      "text/plain": [
       "A Jupyter Widget"
      ]
     },
     "metadata": {},
     "output_type": "display_data"
    },
    {
     "name": "stdout",
     "output_type": "stream",
     "text": [
      "\n"
     ]
    }
   ],
   "source": [
    "gb_test = GradientBoostingClassifier()\n",
    "gb_scores = verify_model(gb_test, X_tr, y_tr, X_te, y_te, gb.feature_importances_, roc_auc_score, [1,60], 1)"
   ]
  },
  {
   "cell_type": "code",
   "execution_count": 68,
   "metadata": {},
   "outputs": [
    {
     "data": {
      "text/plain": [
       "[<matplotlib.lines.Line2D at 0x7f4486bb95c0>]"
      ]
     },
     "execution_count": 68,
     "metadata": {},
     "output_type": "execute_result"
    },
    {
     "data": {
      "image/png": "[encoded data removed]",
      "text/plain": [
       "<matplotlib.figure.Figure at 0x7f448d64f748>"
      ]
     },
     "metadata": {},
     "output_type": "display_data"
    }
   ],
   "source": [
    "plt.plot(gb_scores[1])"
   ]
  },
  {
   "cell_type": "markdown",
   "metadata": {},
   "source": [
    "Что интересно фичи выбранные random forest и gradient boosting очень отличаются. Наверное бустинг можно потюнить (уменьшить глубину деервьев, покрутить learning rate), но пока просто остановимся на RF, т.к. у него и auc лучше, и фичи гораздо более четко фильтруются."
   ]
  },
  {
   "cell_type": "markdown",
   "metadata": {},
   "source": [
    "## Linear Models"
   ]
  },
  {
   "cell_type": "markdown",
   "metadata": {},
   "source": [
    "В отличие от статьи, у нас классификация бинарная, значит нет причин не использовать стандартные модели с l1 регуляризацией.\n",
    "\n",
    "С линейными моделями все немного не так как с деревьями, l1 регуляризации дадут нам разряженый вектор весов, так что у нас не будет возможности сортировать по feature importance(???). Количество фичей будет отбираться за счет веса регуляризации.\n",
    "\n",
    "\n",
    "\n",
    "В данных наверняка есть скореллированные столбцы, для лассо это не должно быть критично\n",
    "https://arxiv.org/pdf/1204.1605.pdf\n",
    "\n",
    "\n",
    "Преред тем как что-то делать, стандартизируем данные, чтобы среднее было 0, а величина в диапазоне от -1 до 1. (для деревьев это было не важно)"
   ]
  },
  {
   "cell_type": "code",
   "execution_count": 232,
   "metadata": {},
   "outputs": [],
   "source": [
    "class_weights = {0.: (y_tr == 0).sum() / y_tr.shape[0], 1.: (y_tr == 1).sum() / y_tr.shape[0]}"
   ]
  },
  {
   "cell_type": "code",
   "execution_count": 233,
   "metadata": {},
   "outputs": [],
   "source": [
    "def standartize(X):\n",
    "    div = np.abs((X - X.mean(0))).max(0)\n",
    "    div[div == 0] = 1\n",
    "    return (X - X.mean(0)) / div"
   ]
  },
  {
   "cell_type": "code",
   "execution_count": 234,
   "metadata": {},
   "outputs": [],
   "source": [
    "X_tr_s, X_te_s = standartize(X_tr), standartize(X_te)"
   ]
  },
  {
   "cell_type": "code",
   "execution_count": null,
   "metadata": {},
   "outputs": [],
   "source": []
  },
  {
   "cell_type": "markdown",
   "metadata": {},
   "source": [
    "#### Lasso"
   ]
  },
  {
   "cell_type": "code",
   "execution_count": 71,
   "metadata": {},
   "outputs": [],
   "source": [
    "from sklearn.linear_model import LogisticRegression"
   ]
  },
  {
   "cell_type": "markdown",
   "metadata": {},
   "source": [
    "Попробуем поискать параметр регуляризации"
   ]
  },
  {
   "cell_type": "code",
   "execution_count": 122,
   "metadata": {},
   "outputs": [],
   "source": [
    "def check_lasso(C, X_tr, y_tr, X_te, y_te, c_w):\n",
    "    lr_lasso = LogisticRegression('l1', C = C, class_weight=c_w)\n",
    "    lr_lasso.fit(X_tr, y_tr)\n",
    "    lasso_pred = lr_lasso.predict_proba(X_te)\n",
    "    return roc_auc_score(y_te, lasso_pred[:,1]), (lr_lasso.coef_ != 0).sum(), lr_lasso"
   ]
  },
  {
   "cell_type": "code",
   "execution_count": 240,
   "metadata": {
    "scrolled": true
   },
   "outputs": [
    {
     "name": "stdout",
     "output_type": "stream",
     "text": [
      "[ 0.01        0.02154435  0.04641589  0.1         0.21544347  0.46415888\n",
      "  1.          2.15443469  4.64158883 10.        ]\n"
     ]
    }
   ],
   "source": [
    "good_C_logspace = np.logspace(-2, 1, n, base=10)\n",
    "print(good_C_logspace)"
   ]
  },
  {
   "cell_type": "code",
   "execution_count": 241,
   "metadata": {},
   "outputs": [
    {
     "data": {
      "application/vnd.jupyter.widget-view+json": {
       "model_id": "e21391b09a7f469d8a8c9c9d6340cda9",
       "version_major": 2,
       "version_minor": 0
      },
      "text/plain": [
       "A Jupyter Widget"
      ]
     },
     "metadata": {},
     "output_type": "display_data"
    },
    {
     "name": "stdout",
     "output_type": "stream",
     "text": [
      "\n"
     ]
    }
   ],
   "source": [
    "n = 10\n",
    "lasso_scores_vs_nonzeros = np.zeros((3,n))\n",
    "lasso_models = []\n",
    "\n",
    "for i, C in tqdm_notebook(enumerate(good_C_logspace)):\n",
    "    res = check_lasso(C, X_tr_s, y_tr, X_te_s, y_te, class_weights)\n",
    "    lasso_scores_vs_nonzeros[1:, i] = res[:-1]\n",
    "    lasso_scores_vs_nonzeros[0, i] = C\n",
    "    \n",
    "    lasso_models.append(res[-1])"
   ]
  },
  {
   "cell_type": "code",
   "execution_count": 242,
   "metadata": {
    "scrolled": false
   },
   "outputs": [
    {
     "data": {
      "text/plain": [
       "<matplotlib.legend.Legend at 0x7f44847f7dd8>"
      ]
     },
     "execution_count": 242,
     "metadata": {},
     "output_type": "execute_result"
    },
    {
     "data": {
      "image/png": "[encoded data removed]",
      "text/plain": [
       "<matplotlib.figure.Figure at 0x7f44848a5630>"
      ]
     },
     "metadata": {},
     "output_type": "display_data"
    }
   ],
   "source": [
    "plt.plot(lasso_scores_vs_nonzeros[2], lasso_scores_vs_nonzeros[1], label = 'lasso')\n",
    "plt.xlabel(\"features_num\")\n",
    "plt.ylabel(\"AUC\")\n",
    "plt.legend()"
   ]
  },
  {
   "cell_type": "markdown",
   "metadata": {},
   "source": [
    "Lasso рекоммендует что-то в районе 20 - 50 фичей, посмотрим какой регуляризации это соответсвует, и поищем в том регионе еще полуше (да, придется копировать код, потому что я спешу)"
   ]
  },
  {
   "cell_type": "code",
   "execution_count": 248,
   "metadata": {
    "scrolled": true
   },
   "outputs": [
    {
     "data": {
      "text/plain": [
       "array([[1.00000000e-02, 2.15443469e-02, 4.64158883e-02, 1.00000000e-01,\n",
       "        2.15443469e-01, 4.64158883e-01, 1.00000000e+00, 2.15443469e+00,\n",
       "        4.64158883e+00, 1.00000000e+01],\n",
       "       [5.00000000e-01, 5.00000000e-01, 6.48478455e-01, 8.68431147e-01,\n",
       "        9.06086178e-01, 9.19447641e-01, 9.27183225e-01, 9.21045902e-01,\n",
       "        9.13182457e-01, 8.64851042e-01],\n",
       "       [1.00000000e+00, 2.00000000e+00, 2.00000000e+00, 7.00000000e+00,\n",
       "        1.80000000e+01, 3.10000000e+01, 5.30000000e+01, 9.10000000e+01,\n",
       "        1.44000000e+02, 1.92000000e+02]])"
      ]
     },
     "execution_count": 248,
     "metadata": {},
     "output_type": "execute_result"
    }
   ],
   "source": [
    "lasso_scores_vs_nonzeros"
   ]
  },
  {
   "cell_type": "code",
   "execution_count": 254,
   "metadata": {
    "scrolled": true
   },
   "outputs": [
    {
     "name": "stdout",
     "output_type": "stream",
     "text": [
      "[0.1        0.14677993 0.21544347 0.31622777 0.46415888 0.68129207\n",
      " 1.         1.46779927 2.15443469 3.16227766]\n"
     ]
    }
   ],
   "source": [
    "good_C_logspace_2 = np.logspace(-1, 0.5, n, base=10)\n",
    "print(good_C_logspace_2)"
   ]
  },
  {
   "cell_type": "code",
   "execution_count": 255,
   "metadata": {
    "scrolled": true
   },
   "outputs": [
    {
     "data": {
      "application/vnd.jupyter.widget-view+json": {
       "model_id": "7970849446144a0a8490ace786a34b8e",
       "version_major": 2,
       "version_minor": 0
      },
      "text/plain": [
       "A Jupyter Widget"
      ]
     },
     "metadata": {},
     "output_type": "display_data"
    },
    {
     "name": "stdout",
     "output_type": "stream",
     "text": [
      "\n"
     ]
    }
   ],
   "source": [
    "n = 10\n",
    "lasso_scores_vs_nonzeros_2 = np.zeros((3,n))\n",
    "lasso_models_2 = []\n",
    "\n",
    "for i, C in tqdm_notebook(enumerate(good_C_logspace_2)):\n",
    "    res = check_lasso(C, X_tr_s, y_tr, X_te_s, y_te, class_weights)\n",
    "    lasso_scores_vs_nonzeros_2[1:, i] = res[:-1]\n",
    "    lasso_scores_vs_nonzeros_2[0, i] = C\n",
    "    \n",
    "    lasso_models_2.append(res[-1])"
   ]
  },
  {
   "cell_type": "code",
   "execution_count": 256,
   "metadata": {
    "scrolled": false
   },
   "outputs": [
    {
     "data": {
      "text/plain": [
       "<matplotlib.legend.Legend at 0x7f44847f7278>"
      ]
     },
     "execution_count": 256,
     "metadata": {},
     "output_type": "execute_result"
    },
    {
     "data": {
      "image/png": "[encoded data removed]",
      "text/plain": [
       "<matplotlib.figure.Figure at 0x7f44847f7320>"
      ]
     },
     "metadata": {},
     "output_type": "display_data"
    }
   ],
   "source": [
    "plt.plot(lasso_scores_vs_nonzeros_2[2], lasso_scores_vs_nonzeros_2[1], label = 'lasso')\n",
    "plt.xlabel(\"features_num\")\n",
    "plt.ylabel(\"AUC\")\n",
    "plt.legend()"
   ]
  },
  {
   "cell_type": "markdown",
   "metadata": {},
   "source": [
    "Прямо хорошо модели становится, когда мы сохраняем около 55 фичей, посмотрим что за фичи и сколько их"
   ]
  },
  {
   "cell_type": "code",
   "execution_count": 258,
   "metadata": {},
   "outputs": [],
   "source": [
    "model_num = lasso_scores_vs_nonzeros_2[1].argmax()"
   ]
  },
  {
   "cell_type": "code",
   "execution_count": 261,
   "metadata": {},
   "outputs": [],
   "source": [
    "lasso_best_model = lasso_models_2[model_num]\n",
    "np.save(\"../storage/lasso_feature_importance\", lasso_best_model.coef_[0])"
   ]
  },
  {
   "cell_type": "code",
   "execution_count": 264,
   "metadata": {},
   "outputs": [
    {
     "name": "stdout",
     "output_type": "stream",
     "text": [
      "Selected :  [  47   79   83   87  367  376  381  456  457  458  463  472  478  491\n",
      "  542  545  557  569  575  609  649  662  666  672  702  789  795  799\n",
      "  803  805  806  807  879  881  982  990 1013 1025 1053 1082 1088 1191\n",
      " 1214 1296 1332 1350 1387 1394 1395 1424 1426 1460 1523]\n"
     ]
    }
   ],
   "source": [
    "print('Selected : ', np.where(lasso_best_model.coef_[0] != 0)[0]) "
   ]
  },
  {
   "cell_type": "markdown",
   "metadata": {},
   "source": [
    "Это похоже на то что выбрал лес. Но анализ потом"
   ]
  },
  {
   "cell_type": "code",
   "execution_count": null,
   "metadata": {},
   "outputs": [],
   "source": []
  },
  {
   "cell_type": "markdown",
   "metadata": {},
   "source": [
    "## Elastic Net && DFS"
   ]
  },
  {
   "cell_type": "markdown",
   "metadata": {},
   "source": [
    "Обе модели подразумевают SGD для решения, используют похожую регурялизацю, так что можно сделать две похожих tf модельки для DFS и Elastic Net. \n",
    "\n",
    "Работать будем с Elastic Net лог регрессией и с DFS сразу многослойной."
   ]
  },
  {
   "cell_type": "code",
   "execution_count": 265,
   "metadata": {},
   "outputs": [
    {
     "name": "stderr",
     "output_type": "stream",
     "text": [
      "Using TensorFlow backend.\n"
     ]
    }
   ],
   "source": [
    "from keras.layers import Dense"
   ]
  },
  {
   "cell_type": "code",
   "execution_count": 273,
   "metadata": {},
   "outputs": [],
   "source": [
    "class WeightLayer:\n",
    "    '''Weight layer, simply performs elementwise multiplication between input and weights'''\n",
    "    def __init__(self, shape, name, w=None):\n",
    "        self.shape = shape\n",
    "        self.name = name\n",
    "        \n",
    "        with tf.variable_scope(name) as scope:\n",
    "            if w is None:\n",
    "                self.w = tf.get_variable('w', shape=shape, initializer=None, trainable=True)\n",
    "            else:\n",
    "                self.w = w\n",
    "        self.scope = scope\n",
    "        \n",
    "    def __call__(self, inp):\n",
    "        with tf.variable_scope(self.scope):\n",
    "            with tf.name_scope(self.scope.original_name_scope):\n",
    "                out = self.w * inp\n",
    "                return out                "
   ]
  },
  {
   "cell_type": "code",
   "execution_count": 305,
   "metadata": {},
   "outputs": [],
   "source": [
    "class ElasticNet:\n",
    "    '''\n",
    "    Class for ElasticNet model.\n",
    "    Also responsible for creating loss terms\n",
    "    '''\n",
    "    def __init__(self, name, input_shape):\n",
    "        self.name = name\n",
    "        self.input_shape = input_shape\n",
    "        \n",
    "        with tf.variable_scope(name) as scope:\n",
    "            self.dense = Dense(1, activation=None)\n",
    "        self.scope = scope\n",
    "    \n",
    "    def __call__(self, inp):\n",
    "        with tf.variable_scope(self.scope):\n",
    "            with tf.name_scope(self.scope.original_name_scope):                \n",
    "                logits = self.dense(inp)\n",
    "                out = tf.nn.sigmoid(logits)\n",
    "        return logits, out\n",
    "        \n",
    "    def get_regularization_term(self, alpha):\n",
    "        with tf.variable_scope(\"regularization\"):\n",
    "            return  (1-alpha) * tf.reduce_sum(tf.abs(self.dense.weights[0])) +\\\n",
    "                        alpha * tf.reduce_sum(tf.square(self.dense.weights[0]))\n"
   ]
  },
  {
   "cell_type": "code",
   "execution_count": 306,
   "metadata": {},
   "outputs": [],
   "source": [
    "class DFS:\n",
    "    '''\n",
    "    Class for DFS model.\n",
    "    Also responsible for creating loss terms\n",
    "    '''\n",
    "    def __init__(self, name, input_shape, dense_sizes=[256, 256]):\n",
    "        self.name = name\n",
    "        self.input_shape = input_shape\n",
    "        \n",
    "        with tf.variable_scope(name) as scope:\n",
    "            self.weight_layer = WeightLayer(input_shape, 'wl')\n",
    "            self.dense_array = [Dense(x, activation=tf.nn.relu) for x in dense_sizes] + [Dense(2, activation=None)]\n",
    "        self.scope = scope\n",
    "    \n",
    "    def __call__(self, inp):\n",
    "        with tf.variable_scope(self.scope):\n",
    "            with tf.name_scope(self.scope.original_name_scope):\n",
    "                weight_layer_out = self.weight_layer(inp)\n",
    "                next_var = weight_layer_out\n",
    "                for layer in self.dense_array:\n",
    "                    next_var = layer(next_var)\n",
    "                \n",
    "                logits = next_var\n",
    "                out = tf.nn.softmax(logits)\n",
    "        return logits, out\n",
    "\n",
    "    def get_weighted_layer_regularization_term(self, alpha):\n",
    "        with tf.variable_scope(\"weighted_layer_regularization\"):\n",
    "            return (1-alpha) * tf.reduce_sum(tf.abs(self.weight_layer.w)) +\\\n",
    "                    alpha * tf.reduce_sum(tf.square(self.weight_layer.w))\n",
    "        \n",
    "    def get_dense_layers_regularization_term(self, alpha):\n",
    "        with tf.variable_scope(\"dense_layers_regularization\"):\n",
    "            r_term = 0\n",
    "            for layer in self.dense_array:\n",
    "                r_term += (1-alpha) * tf.reduce_sum(tf.abs(layer.weights[0])) +\\\n",
    "                            alpha * tf.reduce_sum(tf.square(layer.weights[0]))\n",
    "\n",
    "            return r_term"
   ]
  },
  {
   "cell_type": "code",
   "execution_count": 413,
   "metadata": {},
   "outputs": [],
   "source": [
    "class experiment:\n",
    "    '''Performs experiment with either ElasticNet or DFS, stores parametres of the experiment'''\n",
    "    def __init__(self,\n",
    "                 name,\n",
    "                 feature_mask,\n",
    "                 session,\n",
    "                 model_type='dfs',\n",
    "                 lambda_1=0.001,\n",
    "                 lambda_2=0.5,\n",
    "                 alpha_1=0.00002,\n",
    "                 alpha_2=0.5,\n",
    "                 dense_sizes = [256, 256]):\n",
    "        self.name = name\n",
    "        self.session = session\n",
    "        self.feature_mask = feature_mask\n",
    "        self.n_features = self.feature_mask.sum()\n",
    "        if not model_type in ['elastic', 'dfs']:\n",
    "            raise ValueError(\"model can be either 'dfs' or 'elastic'\")\n",
    "        self.model_type = model_type\n",
    "        \n",
    "        self.alpha_1 = alpha_1\n",
    "        self.alpha_2 = alpha_2\n",
    "        self.lambda_1 = lambda_1\n",
    "        self.lambda_2 = lambda_2\n",
    "        \n",
    "        self.dense_sizes = dense_sizes\n",
    "        \n",
    "        self.ready = False\n",
    "        \n",
    "    def _initialize_network(self):\n",
    "        with tf.variable_scope(self.name) as net_scope:\n",
    "            ## Initialize network\n",
    "            self.inp = tf.placeholder(tf.float32, [None, self.n_features])\n",
    "            if self.model_type == 'dfs':\n",
    "                self.model = DFS(\"DFS\", self.n_features, self.dense_sizes)\n",
    "            elif self.model_type == 'elastic':\n",
    "                self.model = ElasticNet(\"ElasticNet\", self.n_features)                \n",
    "     \n",
    "            self.logits, self.out = self.model(self.inp)\n",
    "\n",
    "            ##Prepare target and loss weights\n",
    "            self.target = tf.placeholder(tf.float32, [None])\n",
    "            self.loss_weights = tf.placeholder(tf.float32, [None])\n",
    "\n",
    "            \n",
    "            if self.model_type == 'dfs':\n",
    "                ##Loss terms\n",
    "                self.ce_loss = tf.losses.softmax_cross_entropy(tf.one_hot(tf.cast(self.target, tf.int32), 2),\n",
    "                                                               self.logits,\n",
    "                                                               weights=self.loss_weights)\n",
    "                self.features_weights_regularization = \\\n",
    "                    self.lambda_1 * self.model.get_weighted_layer_regularization_term(self.lambda_2) \n",
    "                self.network_weights_regularization = \\\n",
    "                    self.alpha_1 * self.model.get_dense_layers_regularization_term(self.alpha_2)\n",
    "\n",
    "                self.loss = self.ce_loss + self.features_weights_regularization + self.network_weights_regularization\n",
    "            elif self.model_type == 'elastic':\n",
    "                self.ce_loss = tf.losses.log_loss(self.target, tf.reshape(self.out, [-1]), self.loss_weights)\n",
    "                \n",
    "                self.weights_regularization = \\\n",
    "                    self.lambda_1 * self.model.get_regularization_term(self.lambda_2)\n",
    "\n",
    "                self.loss = self.ce_loss + self.weights_regularization\n",
    "\n",
    "            ## Optimizer, Adam optimizes everything\n",
    "            self.optimizer = tf.train.AdamOptimizer()\n",
    "            self.train_step = self.optimizer.minimize(self.loss, var_list=tf.trainable_variables(self.name))\n",
    "\n",
    "        ## Initialize only this experiment    \n",
    "        self.uninitialized_vars = []\n",
    "        for var in tf.all_variables():\n",
    "            try:\n",
    "                sess.run(var)\n",
    "            except tf.errors.FailedPreconditionError:\n",
    "                self.uninitialized_vars.append(var)\n",
    "\n",
    "        init_new_vars_op = tf.initialize_variables(self.uninitialized_vars)\n",
    "        sess.run(init_new_vars_op)\n",
    "        \n",
    "        self.net_scope = net_scope\n",
    "            \n",
    "    def _plot_graphs(self, plot_start):\n",
    "        f, (a1, a2) = plt.subplots(2,1,figsize = (10,10))\n",
    "        display.clear_output(wait=True)\n",
    "        a1.plot(self.train_ce_losses[plot_start:], label='train ce')\n",
    "        a1.plot(self.val_ce_losses[plot_start:], label = 'val ce')\n",
    "\n",
    "        a2.plot(self.val_auc_scores[:], label='val_auc')\n",
    "\n",
    "        a1.legend()\n",
    "        a2.legend()\n",
    "        plt.show()\n",
    "             \n",
    "        \n",
    "    def run_experiment(self, X_tr, y_tr, X_te, y_te, max_epochs, b_s=40, plot=True, warm_up=40, early_stop=20, plot_start=0):\n",
    "        if not self.ready:\n",
    "            self._initialize_network()\n",
    "            self.ready = True\n",
    "\n",
    "            self.class_weights = {0.: (y_tr == 0).sum() / y_tr.shape[0], 1.: (y_tr == 1).sum() / y_tr.shape[0]}\n",
    "            self.val_weights = np.array([self.class_weights[y] for y in y_te])\n",
    "\n",
    "            self.train_ce_losses = []\n",
    "            self.val_ce_losses = []\n",
    "            self.val_auc_scores = []\n",
    "\n",
    "        for epoch in range(max_epochs):\n",
    "            train_ce_loss = 0\n",
    "\n",
    "            for i, (batch_X, batch_y) in enumerate(iterate_minibatches(X_tr, y_tr, b_s)):\n",
    "                batch_weights = np.array([self.class_weights[y] for y in batch_y])\n",
    "\n",
    "                batch_loss = self.session.run([self.train_step, self.ce_loss],\n",
    "                                      feed_dict={self.inp : batch_X[:,self.feature_mask],\n",
    "                                                 self.target: batch_y,\n",
    "                                                 self.loss_weights:batch_weights})\n",
    "\n",
    "                train_ce_loss += batch_loss[1] * batch_X.shape[0]\n",
    "\n",
    "\n",
    "            val_ce_loss = self.session.run(self.ce_loss,  feed_dict={self.inp : X_te[:,self.feature_mask],\n",
    "                                                             self.target: y_te,\n",
    "                                                             self.loss_weights : self.val_weights})\n",
    "            \n",
    "            val_pred = self.session.run(self.out, feed_dict={self.inp : X_te[:,self.feature_mask]})\n",
    "            if self.model_type == 'dfs': val_pred = val_pred[:, 1]\n",
    "            val_auc_score = roc_auc_score(y_te, val_pred) \n",
    "\n",
    "            self.val_ce_losses.append(val_ce_loss)\n",
    "            self.val_auc_scores.append(val_auc_score)\n",
    "            self.train_ce_losses.append(train_ce_loss / X_tr.shape[0])\n",
    "\n",
    "\n",
    "            if plot:\n",
    "                self._plot_graphs(plot_start)\n",
    "\n",
    "\n",
    "            if epoch > warm_up:\n",
    "                if np.argmax(np.array(self.val_auc_scores[-early_stop:])) == 0:\n",
    "                    print(\"early stop\")\n",
    "                    break\n",
    "\n",
    "def iterate_minibatches(x, y, batchsize, shuffle=True):\n",
    "    if shuffle:\n",
    "        indices = np.arange(y.shape[0])\n",
    "        np.random.shuffle(indices)\n",
    "    for start_idx in range(0, y.shape[0] - batchsize + 1, batchsize):\n",
    "        if shuffle:\n",
    "            excerpt = indices[start_idx:start_idx + batchsize]\n",
    "        else:\n",
    "            excerpt = slice(start_idx, start_idx + batchsize)\n",
    "        yield x[excerpt], y[excerpt]"
   ]
  },
  {
   "cell_type": "markdown",
   "metadata": {},
   "source": [
    "#### DFS "
   ]
  },
  {
   "cell_type": "markdown",
   "metadata": {},
   "source": [
    "Надо подобрать веса регуляризации.\n",
    "После попробуем запустить с несколькими разными архитектурами такую сетку и посмотрим что получится на слое отбора фичей. \n",
    "Остановка обучения либо по макс кол-ву эпох, либо если за 20 эпох не смогли улучшить val_auc. Еще хорошо бы сохранять веса с лучшей эпохи, но для начала будем считать, что модель не успевает испортиться (графики обучения вполне неплохо свидетельствуют об этом)"
   ]
  },
  {
   "cell_type": "code",
   "execution_count": 445,
   "metadata": {},
   "outputs": [],
   "source": [
    "tf.reset_default_graph()\n",
    "sess = tf.Session()"
   ]
  },
  {
   "cell_type": "code",
   "execution_count": 415,
   "metadata": {
    "scrolled": true
   },
   "outputs": [],
   "source": [
    "exp_1 = experiment(\"DFS_visual\", np.ones(X.shape[1]).astype(bool), sess)"
   ]
  },
  {
   "cell_type": "code",
   "execution_count": 416,
   "metadata": {
    "scrolled": false
   },
   "outputs": [
    {
     "data": {
      "image/png": "[encoded data removed]",
      "text/plain": [
       "<matplotlib.figure.Figure at 0x7f44287e8da0>"
      ]
     },
     "metadata": {},
     "output_type": "display_data"
    },
    {
     "name": "stdout",
     "output_type": "stream",
     "text": [
      "early stop\n"
     ]
    }
   ],
   "source": [
    "exp_1.run_experiment(X_tr, y_tr, X_te, y_te, 200)"
   ]
  },
  {
   "cell_type": "code",
   "execution_count": 427,
   "metadata": {},
   "outputs": [
    {
     "name": "stdout",
     "output_type": "stream",
     "text": [
      "best score : 0.9174018667689554\n"
     ]
    }
   ],
   "source": [
    "print(\"best score :\", max(exp_1.val_auc_scores))"
   ]
  },
  {
   "cell_type": "code",
   "execution_count": 422,
   "metadata": {},
   "outputs": [
    {
     "data": {
      "image/png": "[encoded data removed]",
      "text/plain": [
       "<matplotlib.figure.Figure at 0x7f4447f96c50>"
      ]
     },
     "metadata": {},
     "output_type": "display_data"
    }
   ],
   "source": [
    "f, (a1, a2) = plt.subplots(1,2,figsize=(15,5))\n",
    "a1.plot(sorted(np.abs(sess.run(exp_1.model.weight_layer.w)))[::-1][:], label = 'all features')\n",
    "a2.plot(np.log(sorted(np.abs(sess.run(exp_1.model.weight_layer.w)))[::-1][:200]), label = 'top 200 features, log importances')\n",
    "a1.legend()\n",
    "a2.legend()\n",
    "plt.show()"
   ]
  },
  {
   "cell_type": "markdown",
   "metadata": {},
   "source": [
    "Можно попробовать поподбирать $\\lambda_1$ и $\\alpha_1$ (веса регуляризации), но шибко не разгуляешься, это сетки, все медленно. Попробуем поискать вокруг параметров, которые я получил, пока эксперементировал с кодом                  $\\lambda_1=0.001, \\alpha_1=0.00002$. \n",
    "\n",
    "В целом это только модель ранжирующая признаки, а не финальный самый крутой вариант на отобранных. "
   ]
  },
  {
   "cell_type": "code",
   "execution_count": 446,
   "metadata": {},
   "outputs": [],
   "source": [
    "lambda_1_range = [0.0005, 0.001, 0.002, 0.004]\n",
    "alpha_1_range = [0.00004, 0.00008, 0.00016,]"
   ]
  },
  {
   "cell_type": "code",
   "execution_count": 447,
   "metadata": {},
   "outputs": [
    {
     "name": "stdout",
     "output_type": "stream",
     "text": [
      "early stop\n",
      "exp_results : 0.0005 4e-05 0.9292929292929293\n",
      "early stop\n",
      "exp_results : 0.0005 8e-05 0.8981588032220944\n",
      "early stop\n",
      "exp_results : 0.0005 0.00016 0.9049993606955632\n",
      "early stop\n",
      "exp_results : 0.001 4e-05 0.9146528576908324\n",
      "early stop\n",
      "exp_results : 0.001 8e-05 0.9048075693645314\n",
      "early stop\n",
      "exp_results : 0.001 0.00016 0.9246899373481652\n",
      "early stop\n",
      "exp_results : 0.002 4e-05 0.9220687891573968\n",
      "early stop\n",
      "exp_results : 0.002 8e-05 0.9071090653369135\n",
      "early stop\n",
      "exp_results : 0.002 0.00016 0.9222605804884286\n",
      "early stop\n",
      "exp_results : 0.004 4e-05 0.9050632911392406\n",
      "early stop\n",
      "exp_results : 0.004 8e-05 0.9178493798746963\n",
      "early stop\n",
      "exp_results : 0.004 0.00016 0.9123513617184503\n"
     ]
    }
   ],
   "source": [
    "grid_search_results = np.zeros((3, len(lambda_1_range) * len(alpha_1_range)))\n",
    "exps = []\n",
    "ind = 0\n",
    "\n",
    "for lambda_1 in lambda_1_range:\n",
    "    for alpha_1 in alpha_1_range:\n",
    "        exp = experiment(\"DFS_\" + str(lambda_1) + \"_\" + str(alpha_1), np.ones(X.shape[1]).astype(bool), sess)\n",
    "        exp.run_experiment(X_tr, y_tr, X_te, y_te, 200, plot = False)\n",
    "        \n",
    "        grid_search_results[0, ind] = lambda_1\n",
    "        grid_search_results[1, ind] = alpha_1\n",
    "        grid_search_results[2, ind] = max(exp.val_auc_scores)\n",
    "        print(\"exp_results :\", lambda_1, alpha_1, max(exp.val_auc_scores))\n",
    "        \n",
    "        exps.append(exp)\n",
    "        \n",
    "        ind += 1"
   ]
  },
  {
   "cell_type": "markdown",
   "metadata": {},
   "source": [
    "Если посмотреть сколько фичей пересекается для таких отдельных запусков, можно увидеть что их очень мало. Это не очень подходящая нестабильность, которая для сетки понятна. Отранжируем фичи по всем 12-ти экспериментам. Рангом фичи будет такая сумма: $ \\sum_{for\\ k\\ in\\ all\\ experiments} {{1} \\over {(pos_k + 1)} }$"
   ]
  },
  {
   "cell_type": "code",
   "execution_count": 486,
   "metadata": {},
   "outputs": [],
   "source": [
    "DFS_selected_features = {}"
   ]
  },
  {
   "cell_type": "code",
   "execution_count": 487,
   "metadata": {},
   "outputs": [],
   "source": [
    "for exp in exps:\n",
    "    exp_best_features = np.argsort(sess.run(exp.model.weight_layer.w))[::-1][:300]\n",
    "    for i, feature in enumerate(exp_best_features):\n",
    "        if feature in DFS_selected_features.keys():\n",
    "            DFS_selected_features[feature] += 1 / (i + 1)\n",
    "        else:\n",
    "            DFS_selected_features[feature] = 1 / (i + 1)"
   ]
  },
  {
   "cell_type": "code",
   "execution_count": 488,
   "metadata": {},
   "outputs": [],
   "source": [
    "DFS_features_array = np.zeros((2, len(DFS_selected_features)))\n",
    "for i, (k, v) in enumerate(DFS_selected_features.items()):\n",
    "    DFS_features_array[0, i] = k\n",
    "    DFS_features_array[1, i] = v"
   ]
  },
  {
   "cell_type": "markdown",
   "metadata": {},
   "source": [
    "Построим результаты для стабильно ранжированных фичей, и вытащим наконец в отдельную функцию постройку графиков"
   ]
  },
  {
   "cell_type": "code",
   "execution_count": 497,
   "metadata": {},
   "outputs": [],
   "source": [
    "def plot_rank(ranks):\n",
    "    f, (a1, a2) = plt.subplots(1,2,figsize=(15,5))\n",
    "    a1.plot(sorted(np.abs(ranks))[::-1][:], label = 'all features')\n",
    "    a2.plot(np.log(sorted(np.abs(ranks)))[::-1][:200], label = 'top 200 features, log importances')\n",
    "    a1.legend()\n",
    "    a2.legend()\n",
    "    plt.show()"
   ]
  },
  {
   "cell_type": "code",
   "execution_count": 498,
   "metadata": {},
   "outputs": [
    {
     "data": {
      "image/png": "[encoded data removed]",
      "text/plain": [
       "<matplotlib.figure.Figure at 0x7f4401371b00>"
      ]
     },
     "metadata": {},
     "output_type": "display_data"
    }
   ],
   "source": [
    "plot_rank(DFS_features_array[1])"
   ]
  },
  {
   "cell_type": "markdown",
   "metadata": {},
   "source": [
    "Попробуем модели от 10 до 200 фичей с каким-нибудь адекватным шагом. Лосс weighted layer отключаем"
   ]
  },
  {
   "cell_type": "code",
   "execution_count": 499,
   "metadata": {},
   "outputs": [
    {
     "data": {
      "text/plain": [
       "array([5.00000000e+00, 4.15882353e+00, 7.50534188e-01, ...,\n",
       "       3.52112676e-03, 3.49650350e-03, 3.48432056e-03])"
      ]
     },
     "execution_count": 499,
     "metadata": {},
     "output_type": "execute_result"
    }
   ],
   "source": [
    "DFS_features_array[1]"
   ]
  },
  {
   "cell_type": "code",
   "execution_count": null,
   "metadata": {},
   "outputs": [],
   "source": [
    "for features in range(10, 200, 15):\n",
    "    "
   ]
  },
  {
   "cell_type": "code",
   "execution_count": null,
   "metadata": {},
   "outputs": [],
   "source": []
  },
  {
   "cell_type": "code",
   "execution_count": null,
   "metadata": {},
   "outputs": [],
   "source": []
  },
  {
   "cell_type": "code",
   "execution_count": null,
   "metadata": {},
   "outputs": [],
   "source": []
  },
  {
   "cell_type": "code",
   "execution_count": 418,
   "metadata": {},
   "outputs": [],
   "source": [
    "gr = tf.get_default_graph()\n",
    "\n",
    "writer = tf.summary.FileWriter(\"../tf_logs\", gr)"
   ]
  }
 ],
 "metadata": {
  "kernelspec": {
   "display_name": "Python 3",
   "language": "python",
   "name": "python3"
  },
  "language_info": {
   "codemirror_mode": {
    "name": "ipython",
    "version": 3
   },
   "file_extension": ".py",
   "mimetype": "text/x-python",
   "name": "python",
   "nbconvert_exporter": "python",
   "pygments_lexer": "ipython3",
   "version": "3.6.3"
  }
 },
 "nbformat": 4,
 "nbformat_minor": 2
}
