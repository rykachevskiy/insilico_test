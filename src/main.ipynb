{
 "cells": [
  {
   "cell_type": "code",
   "execution_count": 1,
   "metadata": {},
   "outputs": [
    {
     "name": "stderr",
     "output_type": "stream",
     "text": [
      "/home/anton/anaconda3/lib/python3.6/site-packages/h5py/__init__.py:34: FutureWarning: Conversion of the second argument of issubdtype from `float` to `np.floating` is deprecated. In future, it will be treated as `np.float64 == np.dtype(float).type`.\n",
      "  from ._conv import register_converters as _register_converters\n"
     ]
    }
   ],
   "source": [
    "import numpy as np\n",
    "import pandas as pd\n",
    "import matplotlib.pyplot as plt\n",
    "\n",
    "import tensorflow as tf\n",
    "\n",
    "\n",
    "from IPython import display\n",
    "%matplotlib inline\n",
    "\n",
    "\n",
    "from sklearn.metrics import log_loss, accuracy_score, f1_score, classification_report, roc_auc_score, auc"
   ]
  },
  {
   "cell_type": "markdown",
   "metadata": {},
   "source": [
    "## Investigation"
   ]
  },
  {
   "cell_type": "code",
   "execution_count": 2,
   "metadata": {},
   "outputs": [
    {
     "data": {
      "text/plain": [
       "1.0    790\n",
       "0.0    315\n",
       "Name: y, dtype: int64"
      ]
     },
     "execution_count": 2,
     "metadata": {},
     "output_type": "execute_result"
    }
   ],
   "source": [
    "data = pd.read_csv(\"../data/train.csv\")\n",
    "data.y.value_counts()"
   ]
  },
  {
   "cell_type": "markdown",
   "metadata": {},
   "source": [
    "Значит имеем задачу классификации, классы не сбалансированы. "
   ]
  },
  {
   "cell_type": "code",
   "execution_count": 3,
   "metadata": {
    "scrolled": true
   },
   "outputs": [
    {
     "name": "stderr",
     "output_type": "stream",
     "text": [
      "/home/anton/anaconda3/lib/python3.6/site-packages/sklearn/cross_validation.py:41: DeprecationWarning: This module was deprecated in version 0.18 in favor of the model_selection module into which all the refactored classes and functions are moved. Also note that the interface of the new CV iterators are different from that of this module. This module will be removed in 0.20.\n",
      "  \"This module will be removed in 0.20.\", DeprecationWarning)\n"
     ]
    }
   ],
   "source": [
    "from sklearn.cross_validation import KFold, train_test_split"
   ]
  },
  {
   "cell_type": "code",
   "execution_count": 4,
   "metadata": {},
   "outputs": [],
   "source": [
    "X = data[data.columns[:-1]].values\n",
    "y = data.y.values"
   ]
  },
  {
   "cell_type": "code",
   "execution_count": 5,
   "metadata": {},
   "outputs": [],
   "source": [
    "X_tr, X_te, y_tr, y_te = train_test_split(X, y)"
   ]
  },
  {
   "cell_type": "code",
   "execution_count": 6,
   "metadata": {},
   "outputs": [],
   "source": [
    "class_weights = {0.: (y_tr == 0).sum() / y_tr.shape[0], 1.: (y_tr == 1).sum() / y_tr.shape[0]}"
   ]
  },
  {
   "cell_type": "code",
   "execution_count": 7,
   "metadata": {
    "scrolled": true
   },
   "outputs": [
    {
     "data": {
      "text/plain": [
       "{0.0: 0.2826086956521739, 1.0: 0.717391304347826}"
      ]
     },
     "execution_count": 7,
     "metadata": {},
     "output_type": "execute_result"
    }
   ],
   "source": [
    "class_weights"
   ]
  },
  {
   "cell_type": "code",
   "execution_count": null,
   "metadata": {},
   "outputs": [],
   "source": []
  },
  {
   "cell_type": "code",
   "execution_count": null,
   "metadata": {},
   "outputs": [],
   "source": []
  },
  {
   "cell_type": "code",
   "execution_count": 5,
   "metadata": {},
   "outputs": [],
   "source": [
    "kfold = KFold(15, 3)"
   ]
  },
  {
   "cell_type": "code",
   "execution_count": 6,
   "metadata": {},
   "outputs": [
    {
     "name": "stdout",
     "output_type": "stream",
     "text": [
      "(array([ 5,  6,  7,  8,  9, 10, 11, 12, 13, 14]), array([0, 1, 2, 3, 4]))\n",
      "(array([ 0,  1,  2,  3,  4, 10, 11, 12, 13, 14]), array([5, 6, 7, 8, 9]))\n",
      "(array([0, 1, 2, 3, 4, 5, 6, 7, 8, 9]), array([10, 11, 12, 13, 14]))\n"
     ]
    }
   ],
   "source": [
    "for idx in kfold:\n",
    "    print(idx)"
   ]
  },
  {
   "cell_type": "code",
   "execution_count": 102,
   "metadata": {},
   "outputs": [],
   "source": [
    "from sklearn.ensemble import RandomForestClassifier"
   ]
  },
  {
   "cell_type": "code",
   "execution_count": 103,
   "metadata": {},
   "outputs": [],
   "source": [
    "rf = RandomForestClassifier(100)"
   ]
  },
  {
   "cell_type": "code",
   "execution_count": 122,
   "metadata": {},
   "outputs": [
    {
     "data": {
      "text/plain": [
       "RandomForestClassifier(bootstrap=True, class_weight=None, criterion='gini',\n",
       "            max_depth=None, max_features='auto', max_leaf_nodes=None,\n",
       "            min_impurity_decrease=0.0, min_impurity_split=None,\n",
       "            min_samples_leaf=1, min_samples_split=2,\n",
       "            min_weight_fraction_leaf=0.0, n_estimators=100, n_jobs=1,\n",
       "            oob_score=False, random_state=None, verbose=0,\n",
       "            warm_start=False)"
      ]
     },
     "execution_count": 122,
     "metadata": {},
     "output_type": "execute_result"
    }
   ],
   "source": [
    "rf.fit(X_tr[:,1460].reshape(-1,1), y_tr)"
   ]
  },
  {
   "cell_type": "code",
   "execution_count": 123,
   "metadata": {},
   "outputs": [],
   "source": [
    "rf_pred = rf.predict_proba(X_te[:,1460].reshape(-1,1))"
   ]
  },
  {
   "cell_type": "code",
   "execution_count": 121,
   "metadata": {},
   "outputs": [
    {
     "data": {
      "text/plain": [
       "array([1460,  458, 1077, ...,  791,  794, 1367])"
      ]
     },
     "execution_count": 121,
     "metadata": {},
     "output_type": "execute_result"
    }
   ],
   "source": [
    "np.argsort(rf.feature_importances_)[::-1]"
   ]
  },
  {
   "cell_type": "code",
   "execution_count": 118,
   "metadata": {},
   "outputs": [
    {
     "data": {
      "text/plain": [
       "0.0007573178837438836"
      ]
     },
     "execution_count": 118,
     "metadata": {},
     "output_type": "execute_result"
    }
   ],
   "source": [
    "rf.feature_importances_[0]"
   ]
  },
  {
   "cell_type": "code",
   "execution_count": 120,
   "metadata": {},
   "outputs": [
    {
     "data": {
      "text/plain": [
       "(array([386]),)"
      ]
     },
     "execution_count": 120,
     "metadata": {},
     "output_type": "execute_result"
    }
   ],
   "source": [
    "np.where(sorted(rf.feature_importances_)[::-1] == rf.feature_importances_[0])"
   ]
  },
  {
   "cell_type": "code",
   "execution_count": 124,
   "metadata": {},
   "outputs": [
    {
     "data": {
      "text/plain": [
       "0.4355032790490114"
      ]
     },
     "execution_count": 124,
     "metadata": {},
     "output_type": "execute_result"
    }
   ],
   "source": [
    "log_loss(y_te, rf_pred)"
   ]
  },
  {
   "cell_type": "code",
   "execution_count": 125,
   "metadata": {},
   "outputs": [
    {
     "name": "stdout",
     "output_type": "stream",
     "text": [
      "             precision    recall  f1-score   support\n",
      "\n",
      "        0.0       0.74      0.71      0.72        85\n",
      "        1.0       0.87      0.89      0.88       192\n",
      "\n",
      "avg / total       0.83      0.83      0.83       277\n",
      "\n"
     ]
    }
   ],
   "source": [
    "print(classification_report(y_te, rf_pred[:,0] < 0.5))"
   ]
  },
  {
   "cell_type": "code",
   "execution_count": 138,
   "metadata": {
    "scrolled": true
   },
   "outputs": [
    {
     "data": {
      "image/png": "[encoded data removed]",
      "text/plain": [
       "<matplotlib.figure.Figure at 0x7f1cd82fbcc0>"
      ]
     },
     "metadata": {},
     "output_type": "display_data"
    }
   ],
   "source": [
    "plt.plot(sorted(rf.feature_importances_)[::-1][:100])\n",
    "plt.show()"
   ]
  },
  {
   "cell_type": "code",
   "execution_count": 141,
   "metadata": {},
   "outputs": [],
   "source": [
    "rf_feauture_mask = rf.feature_importances_ > 0.002"
   ]
  },
  {
   "cell_type": "code",
   "execution_count": 142,
   "metadata": {},
   "outputs": [
    {
     "data": {
      "text/plain": [
       "93"
      ]
     },
     "execution_count": 142,
     "metadata": {},
     "output_type": "execute_result"
    }
   ],
   "source": [
    "rf_feauture_mask.sum()"
   ]
  },
  {
   "cell_type": "code",
   "execution_count": 8,
   "metadata": {},
   "outputs": [
    {
     "name": "stderr",
     "output_type": "stream",
     "text": [
      "Using TensorFlow backend.\n"
     ]
    }
   ],
   "source": [
    "from keras.layers import Dense"
   ]
  },
  {
   "cell_type": "code",
   "execution_count": 9,
   "metadata": {},
   "outputs": [],
   "source": [
    "class WeightLayer:\n",
    "    def __init__(self, shape, name, w=None):\n",
    "        self.shape = shape\n",
    "        self.name = name\n",
    "        \n",
    "        with tf.variable_scope(name) as scope:\n",
    "            if w is None:\n",
    "                self.w = tf.get_variable('w', shape=shape, initializer=None, trainable=True)\n",
    "            else:\n",
    "                self.w = w\n",
    "        self.scope = scope\n",
    "        \n",
    "    def __call__(self, inp):\n",
    "        with tf.variable_scope(self.scope):\n",
    "            with tf.name_scope(self.scope.original_name_scope):\n",
    "                out = self.w * inp\n",
    "                return out                "
   ]
  },
  {
   "cell_type": "code",
   "execution_count": 10,
   "metadata": {},
   "outputs": [],
   "source": [
    "class DFS:\n",
    "    def __init__(self, name, input_shape, dense_sizes = [256, 256]):\n",
    "        self.name = name\n",
    "        self.input_shape = input_shape\n",
    "        \n",
    "        with tf.variable_scope(name) as scope:\n",
    "            self.weight_layer = WeightLayer(input_shape, 'wl')\n",
    "\n",
    "            self.dense_array = [Dense(x, activation=tf.nn.relu) for x in dense_sizes] + [Dense(2, activation=None)]\n",
    "        self.scope = scope\n",
    "    \n",
    "    def __call__(self, inp):\n",
    "        with tf.variable_scope(self.scope):\n",
    "            with tf.name_scope(self.scope.original_name_scope):\n",
    "                weight_layer_out = self.weight_layer(inp)\n",
    "                next_var = weight_layer_out\n",
    "                for layer in self.dense_array:\n",
    "                    next_var = layer(next_var)\n",
    "                \n",
    "                logits = next_var\n",
    "                out = tf.nn.softmax(logits)\n",
    "        return logits, out\n",
    "\n",
    "    def get_weighted_layer_regularization_term(self, alpha):\n",
    "        with tf.variable_scope(\"weighted_layer_regularization\"):\n",
    "            return (1-alpha) * tf.reduce_sum(tf.abs(self.weight_layer.w)) +\\\n",
    "                    alpha * tf.reduce_sum(tf.square(self.weight_layer.w))\n",
    "        \n",
    "    def get_dense_layers_regularization_term(self, alpha):\n",
    "        with tf.variable_scope(\"dense_layers_regularization\"):\n",
    "            r_term = 0\n",
    "            for layer in self.dense_array:\n",
    "                r_term += (1-alpha) * tf.reduce_sum(tf.abs(layer.weights[0])) +\\\n",
    "                            alpha * tf.reduce_sum(tf.square(layer.weights[0]))\n",
    "\n",
    "            return r_term"
   ]
  },
  {
   "cell_type": "code",
   "execution_count": 53,
   "metadata": {},
   "outputs": [],
   "source": [
    "class NNexperiment:\n",
    "    def __init__(self, name, feature_mask, session):\n",
    "        self.name = name\n",
    "        #self.graph = tf.Graph()\n",
    "        self.session = session#tf.Session()#graph = self.graph)\n",
    "        self.feature_mask = feature_mask\n",
    "        self.n_features = self.feature_mask.sum()\n",
    "        \n",
    "    def _initialize_network(self):\n",
    "        \n",
    "        with tf.variable_scope(self.name) as net_scope:\n",
    "            ## Initialize network\n",
    "            self.inp = tf.placeholder(tf.float32, [None, self.n_features])\n",
    "            self.dfs = DFS(self.name + \"_DFS\", self.n_features)\n",
    "            self.logits, self.out = self.dfs(self.inp)\n",
    "\n",
    "            ##Prepare target and loss weights\n",
    "            self.target = tf.placeholder(tf.float32, [None])\n",
    "            self.loss_weights = tf.placeholder(tf.float32, [None])\n",
    "\n",
    "            ##Loss terms\n",
    "            self.ce_loss = tf.losses.softmax_cross_entropy(tf.one_hot(tf.cast(self.target, tf.int32), 2),\n",
    "                                                           self.logits,\n",
    "                                                           weights=self.loss_weights)\n",
    "            self.features_weights_regularization = 0.1 * self.dfs.get_weighted_layer_regularization_term(0.5)\n",
    "            self.network_weights_regularization = 0.0002 * self.dfs.get_dense_layers_regularization_term(0.5)\n",
    "\n",
    "            self.loss = self.ce_loss + self.features_weights_regularization + self.network_weights_regularization\n",
    "\n",
    "            self.optimizer = tf.train.AdamOptimizer()\n",
    "            self.train_step = self.optimizer.minimize(self.loss, var_list=tf.trainable_variables(self.name))\n",
    "\n",
    "            #self.session.run(tf.global_variables_initializer())\n",
    "        self.uninitialized_vars = []\n",
    "        for var in tf.all_variables():\n",
    "            try:\n",
    "                sess.run(var)\n",
    "            except tf.errors.FailedPreconditionError:\n",
    "                self.uninitialized_vars.append(var)\n",
    "\n",
    "        init_new_vars_op = tf.initialize_variables(self.uninitialized_vars)\n",
    "        sess.run(init_new_vars_op)\n",
    "        \n",
    "        self.net_scope = net_scope\n",
    "            \n",
    "    def _plot_graphs(self):\n",
    "        f, (a1, a2) = plt.subplots(2,1,figsize = (10,10))\n",
    "        display.clear_output(wait=True)\n",
    "        a1.plot(self.train_ce_losses[2:], label='train ce')\n",
    "        a1.plot(self.val_ce_losses[2:], label = 'val ce')\n",
    "\n",
    "        a2.plot(self.val_auc_scores[2:], label='val_auc')\n",
    "\n",
    "        plt.legend()\n",
    "        plt.show()\n",
    "             \n",
    "        \n",
    "    def run_experiment(self, X_tr, y_tr, X_te, y_te, max_epochs, b_s=40, plot=True):\n",
    "        #with self.graph.as_default() as g:\n",
    "        self._initialize_network()\n",
    "\n",
    "        self.train_ce_losses = []\n",
    "        self.val_ce_losses = []\n",
    "        self.val_auc_scores = []\n",
    "\n",
    "        for epoch in range(max_epochs):\n",
    "            train_ce_loss = 0\n",
    "\n",
    "            for i, (batch_X, batch_y) in enumerate(iterate_minibatches(X_tr, y_tr, b_s)):\n",
    "                batch_weights = np.array([class_weights[y] for y in batch_y])\n",
    "\n",
    "                batch_loss = self.session.run([self.train_step, self.ce_loss],\n",
    "                                      feed_dict={self.inp : batch_X[:,self.feature_mask],\n",
    "                                                 self.target: batch_y,\n",
    "                                                 self.loss_weights:batch_weights})\n",
    "\n",
    "                train_ce_loss += batch_loss[1] * batch_X.shape[0]\n",
    "\n",
    "\n",
    "            val_weights = np.array([class_weights[y] for y in y_te])\n",
    "            val_ce_loss = self.session.run(self.ce_loss,  feed_dict={self.inp : X_te[:,self.feature_mask],\n",
    "                                                             self.target: y_te,\n",
    "                                                             self.loss_weights : val_weights})\n",
    "            val_auc_score = roc_auc_score(y_te, self.session.run(self.out,\n",
    "                                                                 feed_dict={self.inp : X_te[:,self.feature_mask]})[:,1])\n",
    "\n",
    "            self.val_ce_losses.append(val_ce_loss)\n",
    "            self.val_auc_scores.append(val_auc_score)\n",
    "            self.train_ce_losses.append(train_ce_loss / X_tr.shape[0])\n",
    "\n",
    "\n",
    "            if plot:\n",
    "                self._plot_graphs()\n",
    "\n",
    "\n",
    "            if epoch > 40:\n",
    "                if np.argmin(np.array(self.val_ce_losses[-20:])) == 0:\n",
    "                    print(\"early stop\")\n",
    "                    break\n",
    "\n",
    "def iterate_minibatches(x, y, batchsize, shuffle=True):\n",
    "    if shuffle:\n",
    "        indices = np.arange(y.shape[0])\n",
    "        np.random.shuffle(indices)\n",
    "    for start_idx in range(0, y.shape[0] - batchsize + 1, batchsize):\n",
    "        if shuffle:\n",
    "            excerpt = indices[start_idx:start_idx + batchsize]\n",
    "        else:\n",
    "            excerpt = slice(start_idx, start_idx + batchsize)\n",
    "        yield x[excerpt], y[excerpt]"
   ]
  },
  {
   "cell_type": "code",
   "execution_count": 54,
   "metadata": {},
   "outputs": [],
   "source": [
    "tf.reset_default_graph()\n",
    "sess = tf.Session()"
   ]
  },
  {
   "cell_type": "code",
   "execution_count": 55,
   "metadata": {
    "scrolled": true
   },
   "outputs": [],
   "source": [
    "exp_1 = NNexperiment(\"322\", np.ones(X.shape[1]).astype(bool), sess)"
   ]
  },
  {
   "cell_type": "code",
   "execution_count": null,
   "metadata": {
    "scrolled": false
   },
   "outputs": [
    {
     "data": {
      "image/png": "[encoded data removed]",
      "text/plain": [
       "<matplotlib.figure.Figure at 0x7f4ecfb08710>"
      ]
     },
     "metadata": {},
     "output_type": "display_data"
    }
   ],
   "source": [
    "exp_1.run_experiment(X_tr, y_tr, X_te, y_te, 20)"
   ]
  },
  {
   "cell_type": "code",
   "execution_count": null,
   "metadata": {},
   "outputs": [],
   "source": []
  },
  {
   "cell_type": "code",
   "execution_count": 21,
   "metadata": {},
   "outputs": [
    {
     "data": {
      "text/plain": [
       "0.03272367"
      ]
     },
     "execution_count": 21,
     "metadata": {},
     "output_type": "execute_result"
    }
   ],
   "source": [
    "sess.run(exp_1.dfs.weight_layer.w).max()"
   ]
  },
  {
   "cell_type": "code",
   "execution_count": 34,
   "metadata": {},
   "outputs": [
    {
     "data": {
      "text/plain": [
       "0.0442377"
      ]
     },
     "execution_count": 34,
     "metadata": {},
     "output_type": "execute_result"
    }
   ],
   "source": [
    "sess.run(exp_1.dfs.weight_layer.w).max()"
   ]
  },
  {
   "cell_type": "code",
   "execution_count": 23,
   "metadata": {
    "scrolled": true
   },
   "outputs": [],
   "source": [
    "exp_2 = NNexperiment(\"322_3\", np.array([True] * 10 + [False] * 1514), sess)"
   ]
  },
  {
   "cell_type": "code",
   "execution_count": 24,
   "metadata": {},
   "outputs": [
    {
     "data": {
      "image/png": "[encoded data removed]",
      "text/plain": [
       "<matplotlib.figure.Figure at 0x7f4ed6edc0b8>"
      ]
     },
     "metadata": {},
     "output_type": "display_data"
    },
    {
     "name": "stdout",
     "output_type": "stream",
     "text": [
      "early stop\n"
     ]
    }
   ],
   "source": [
    "exp_2.run_experiment(X_tr, y_tr, X_te, y_te, 100)"
   ]
  },
  {
   "cell_type": "code",
   "execution_count": 36,
   "metadata": {},
   "outputs": [
    {
     "data": {
      "text/plain": [
       "'dense_1'"
      ]
     },
     "execution_count": 36,
     "metadata": {},
     "output_type": "execute_result"
    }
   ],
   "source": [
    "exp_1.dfs.dense_array[0].name"
   ]
  },
  {
   "cell_type": "code",
   "execution_count": 37,
   "metadata": {},
   "outputs": [
    {
     "data": {
      "text/plain": [
       "'dense_4'"
      ]
     },
     "execution_count": 37,
     "metadata": {},
     "output_type": "execute_result"
    }
   ],
   "source": [
    "exp_2.dfs.dense_array[0].name"
   ]
  },
  {
   "cell_type": "code",
   "execution_count": 92,
   "metadata": {},
   "outputs": [],
   "source": [
    "writer = tf.summary.FileWriter(\"../tf_logs\", exp_1.graph)"
   ]
  },
  {
   "cell_type": "code",
   "execution_count": 97,
   "metadata": {},
   "outputs": [
    {
     "data": {
      "text/plain": [
       "array([-9.3286522e-02, -1.3195953e-04,  1.0772917e-04,  6.6445664e-02,\n",
       "       -2.2152393e-01, -1.4277481e-01, -1.6413462e-04, -1.0987322e-04,\n",
       "        3.3156211e-05, -2.1406886e-04], dtype=float32)"
      ]
     },
     "execution_count": 97,
     "metadata": {},
     "output_type": "execute_result"
    }
   ],
   "source": [
    "exp_2.session.run(exp_2.dfs.weight_layer.w)"
   ]
  },
  {
   "cell_type": "code",
   "execution_count": 96,
   "metadata": {},
   "outputs": [
    {
     "data": {
      "text/plain": [
       "(1524,)"
      ]
     },
     "execution_count": 96,
     "metadata": {},
     "output_type": "execute_result"
    }
   ],
   "source": [
    "exp_1.session.run(exp_1.dfs.weight_layer.w).shape"
   ]
  },
  {
   "cell_type": "code",
   "execution_count": 84,
   "metadata": {},
   "outputs": [],
   "source": [
    "writer = tf.summary.FileWriter(\"../tf_logs\", exp_1.graph)"
   ]
  },
  {
   "cell_type": "code",
   "execution_count": 26,
   "metadata": {},
   "outputs": [],
   "source": [
    "gr = tf.get_default_graph()\n",
    "\n",
    "writer = tf.summary.FileWriter(\"../tf_logs\", gr)"
   ]
  },
  {
   "cell_type": "code",
   "execution_count": 105,
   "metadata": {},
   "outputs": [
    {
     "data": {
      "text/plain": [
       "[]"
      ]
     },
     "execution_count": 105,
     "metadata": {},
     "output_type": "execute_result"
    }
   ],
   "source": [
    "train_ce_loss"
   ]
  },
  {
   "cell_type": "code",
   "execution_count": 103,
   "metadata": {},
   "outputs": [
    {
     "data": {
      "image/png": "[encoded data removed]",
      "text/plain": [
       "<matplotlib.figure.Figure at 0x7f4e698e4518>"
      ]
     },
     "metadata": {},
     "output_type": "display_data"
    },
    {
     "name": "stdout",
     "output_type": "stream",
     "text": [
      "early stop\n"
     ]
    }
   ],
   "source": [
    "train_network(\"test6\", sess, np.ones(X.shape[1]).astype(bool))"
   ]
  },
  {
   "cell_type": "code",
   "execution_count": 56,
   "metadata": {},
   "outputs": [],
   "source": [
    "feature_mask = np.ones(X.shape[1]).astype(bool)\n",
    "#feature_mask = rf_feauture_mask\n",
    "n_features = feature_mask.sum()\n",
    "\n",
    "inp = tf.placeholder(tf.float32, [None, n_features])#X.shape[1]])\n",
    "\n",
    "dfs = DFS(\"DFS\", n_features)\n",
    "\n",
    "logits, out = dfs(inp)"
   ]
  },
  {
   "cell_type": "code",
   "execution_count": 57,
   "metadata": {},
   "outputs": [],
   "source": [
    "target = tf.placeholder(tf.float32, [None])\n",
    "loss_weights = tf.placeholder(tf.float32, [None])"
   ]
  },
  {
   "cell_type": "code",
   "execution_count": 58,
   "metadata": {},
   "outputs": [],
   "source": [
    "ce_loss = tf.losses.softmax_cross_entropy(tf.one_hot(tf.cast(target, tf.int32), 2), logits, weights=loss_weights)"
   ]
  },
  {
   "cell_type": "code",
   "execution_count": 59,
   "metadata": {},
   "outputs": [],
   "source": [
    "#regularization_term = 0.001 * tf.reduce_sum(tf.abs(weight_layer.w))"
   ]
  },
  {
   "cell_type": "code",
   "execution_count": 60,
   "metadata": {},
   "outputs": [
    {
     "data": {
      "text/plain": [
       "[<tf.Variable 'DFS/wl/w:0' shape=(1524,) dtype=float32_ref>,\n",
       " <tf.Variable 'DFS/dense_1/kernel:0' shape=(1524, 256) dtype=float32_ref>,\n",
       " <tf.Variable 'DFS/dense_1/bias:0' shape=(256,) dtype=float32_ref>,\n",
       " <tf.Variable 'DFS/dense_2/kernel:0' shape=(256, 256) dtype=float32_ref>,\n",
       " <tf.Variable 'DFS/dense_2/bias:0' shape=(256,) dtype=float32_ref>,\n",
       " <tf.Variable 'DFS/dense_3/kernel:0' shape=(256, 2) dtype=float32_ref>,\n",
       " <tf.Variable 'DFS/dense_3/bias:0' shape=(2,) dtype=float32_ref>]"
      ]
     },
     "execution_count": 60,
     "metadata": {},
     "output_type": "execute_result"
    }
   ],
   "source": [
    "tf.trainable_variables()"
   ]
  },
  {
   "cell_type": "code",
   "execution_count": 61,
   "metadata": {},
   "outputs": [],
   "source": [
    "# weighted_layer_regularization = tf.reduce_sum(tf.abs(dfs.weight_layer.w)) + tf.reduce_sum(tf.square(dfs.weight_layer.w))\n",
    "# weighted_layer_regularization = 0.05 * weighted_layer_regularization"
   ]
  },
  {
   "cell_type": "code",
   "execution_count": 62,
   "metadata": {},
   "outputs": [],
   "source": [
    "# regularization = 0#tf.reduce_sum(tf.abs(dfs.weight_layer.w)) + tf.reduce_sum(tf.square(dfs.weight_layer.w))\n",
    "# for layer in dfs.dense_array:\n",
    "#     regularization += tf.reduce_sum(tf.abs(layer.weights[0])) + tf.reduce_sum(tf.square(layer.weights[0]))\n",
    "# regularization = 0.0001 * regularization"
   ]
  },
  {
   "cell_type": "code",
   "execution_count": 63,
   "metadata": {},
   "outputs": [],
   "source": [
    "loss = ce_loss + 0.1 * dfs.get_weighted_layer_regularization_term(0.5) +  0.0002 * dfs.get_dense_layers_regularization_term(0.5)"
   ]
  },
  {
   "cell_type": "code",
   "execution_count": 64,
   "metadata": {},
   "outputs": [],
   "source": [
    "optimizer = tf.train.AdamOptimizer()\n",
    "train_step = optimizer.minimize(loss,var_list=tf.trainable_variables())"
   ]
  },
  {
   "cell_type": "code",
   "execution_count": 65,
   "metadata": {},
   "outputs": [],
   "source": [
    "sess.run(tf.global_variables_initializer())"
   ]
  },
  {
   "cell_type": "code",
   "execution_count": 110,
   "metadata": {},
   "outputs": [],
   "source": [
    "gr = tf.get_default_graph()\n",
    "\n",
    "writer = tf.summary.FileWriter(\"../tf_logs\", gr)"
   ]
  },
  {
   "cell_type": "code",
   "execution_count": 67,
   "metadata": {},
   "outputs": [],
   "source": [
    "#sess.run(weighted_layer_regularization,  feed_dict={inp : X_te[:,feature_mask], target: y_te.reshape(-1, 1), loss_weights : val_weights})"
   ]
  },
  {
   "cell_type": "code",
   "execution_count": 68,
   "metadata": {},
   "outputs": [],
   "source": [
    "#sess.run(regularization,  feed_dict={inp : X_te[:,feature_mask], target: y_te.reshape(-1, 1), loss_weights : val_weights})"
   ]
  },
  {
   "cell_type": "code",
   "execution_count": 32,
   "metadata": {},
   "outputs": [],
   "source": []
  },
  {
   "cell_type": "code",
   "execution_count": 71,
   "metadata": {},
   "outputs": [],
   "source": [
    "train_losses = []\n",
    "train_ce = []\n",
    "train_r1 = []\n",
    "train_r2 = []\n",
    "\n",
    "val_losses = []\n",
    "val_x = []\n",
    "n = 5\n",
    "curr_loss = 0\n"
   ]
  },
  {
   "cell_type": "code",
   "execution_count": 72,
   "metadata": {},
   "outputs": [],
   "source": [
    "epochs = 300"
   ]
  },
  {
   "cell_type": "code",
   "execution_count": 73,
   "metadata": {},
   "outputs": [],
   "source": [
    "zero_weights = []"
   ]
  },
  {
   "cell_type": "code",
   "execution_count": 74,
   "metadata": {},
   "outputs": [],
   "source": [
    "curr_loss = np.zeros(4)"
   ]
  },
  {
   "cell_type": "code",
   "execution_count": 75,
   "metadata": {},
   "outputs": [
    {
     "data": {
      "image/png": "[encoded data removed]",
      "text/plain": [
       "<matplotlib.figure.Figure at 0x7f4e84260240>"
      ]
     },
     "metadata": {},
     "output_type": "display_data"
    },
    {
     "name": "stdout",
     "output_type": "stream",
     "text": [
      "early stop\n"
     ]
    }
   ],
   "source": [
    "for epoch in range(epochs):\n",
    "    for i, (batch_X, batch_y) in enumerate(iterate_minibatches(X_tr, y_tr, 40)):\n",
    "        batch_weights = np.array([class_weights[y] for y in batch_y])#.flatten()#.reshape(-1,1)\n",
    "\n",
    "        batch_loss = sess.run([train_step, loss, loss, loss, loss],\n",
    "                              feed_dict={inp : batch_X[:,feature_mask],\n",
    "                                         target: batch_y,\n",
    "                                         loss_weights:batch_weights})\n",
    "        curr_loss += np.array(batch_loss[1:])\n",
    "    \n",
    "    curr_loss /= i\n",
    "    train_losses.append(curr_loss[0])\n",
    "    train_ce.append(curr_loss[1])\n",
    "    train_r1.append(curr_loss[2])\n",
    "    train_r2.append(curr_loss[3])\n",
    "    \n",
    "    curr_loss = np.zeros(4)\n",
    "          \n",
    "        \n",
    "    val_weights = np.array([class_weights[y] for y in y_te])#.reshape(-1,1)\n",
    "    val_loss = sess.run(ce_loss,  feed_dict={inp : X_te[:,feature_mask], target: y_te, loss_weights : val_weights})\n",
    "    val_losses.append(val_loss)\n",
    "    \n",
    "    display.clear_output(wait=True)\n",
    "    plt.plot(train_losses[n:], label='train')\n",
    "    plt.plot(train_ce[n:], label='train ce')\n",
    "    plt.plot(train_r1[n:], label='train r1')\n",
    "    plt.plot(train_r2[n:], label='train r2')\n",
    "    \n",
    "    plt.plot(val_losses[n:], label='test')\n",
    "    plt.legend()\n",
    "    plt.show()\n",
    "    \n",
    "    if epoch > 40:\n",
    "        if np.argmin(np.array(val_losses[-20:])) == 0:\n",
    "            print(\"early stop\")\n",
    "            break\n",
    "            \n",
    "    \n",
    "    #zero_weights.append(np.abs(sess.run(weight_layer.w)).min())\n",
    "        #print(batch_loss[1])"
   ]
  },
  {
   "cell_type": "code",
   "execution_count": 76,
   "metadata": {},
   "outputs": [
    {
     "data": {
      "text/plain": [
       "array([0.17170314, 0.17321236, 0.18057978, 0.18412013, 0.18060762,\n",
       "       0.17321223, 0.18536344, 0.2081416 , 0.18662906, 0.17604607,\n",
       "       0.19564372, 0.18185163, 0.19551134, 0.18459737, 0.22531286,\n",
       "       0.19351383, 0.1973642 , 0.1940897 , 0.18933259, 0.20970924],\n",
       "      dtype=float32)"
      ]
     },
     "execution_count": 76,
     "metadata": {},
     "output_type": "execute_result"
    }
   ],
   "source": [
    "np.array(val_losses[-20:])  "
   ]
  },
  {
   "cell_type": "code",
   "execution_count": 77,
   "metadata": {},
   "outputs": [],
   "source": [
    "out_ = tf.nn.softmax(out)"
   ]
  },
  {
   "cell_type": "code",
   "execution_count": 78,
   "metadata": {},
   "outputs": [
    {
     "name": "stdout",
     "output_type": "stream",
     "text": [
      "0.776173285198556\n",
      "0.8597285067873303\n",
      "             precision    recall  f1-score   support\n",
      "\n",
      "        0.0       0.89      0.30      0.45        84\n",
      "        1.0       0.76      0.98      0.86       193\n",
      "\n",
      "avg / total       0.80      0.78      0.73       277\n",
      "\n",
      "0.2976190476190476 0.9844559585492227\n"
     ]
    }
   ],
   "source": [
    "pred = (sess.run(out, feed_dict={inp:X_te[:,feature_mask]}) > 0.5).astype(int)[:,1]\n",
    "\n",
    "print(accuracy_score(y_te, pred))\n",
    "print(f1_score(y_te, pred))\n",
    "\n",
    "print(classification_report(y_te, pred))\n",
    "#print(classification.zero_one_loss(y_te, pred))\n",
    "\n",
    "mask = y_te < 0.5\n",
    "\n",
    "print(accuracy_score(y_te[mask], pred[mask]), accuracy_score(y_te[np.logical_not(mask)], pred[np.logical_not(mask)]))"
   ]
  },
  {
   "cell_type": "code",
   "execution_count": 79,
   "metadata": {},
   "outputs": [
    {
     "data": {
      "text/plain": [
       "array([0., 0., 1., 1., 0., 1., 0., 1., 0., 1., 0., 0., 0., 0., 1., 0., 1.,\n",
       "       1., 1., 1., 0., 0., 0., 1., 1., 1., 1., 1., 1., 1., 1., 0., 1., 1.,\n",
       "       0., 1., 1., 1., 1., 1., 0., 1., 1., 1., 0., 1., 1., 0., 1., 0., 1.,\n",
       "       1., 0., 1., 1., 1., 1., 1., 1., 0., 1., 1., 0., 0., 1., 1., 1., 1.,\n",
       "       1., 1., 1., 1., 1., 0., 1., 1., 0., 1., 1., 1., 0., 1., 1., 1., 1.,\n",
       "       1., 1., 1., 0., 1., 1., 1., 0., 1., 0., 0., 0., 0., 1., 1., 0., 0.,\n",
       "       0., 0., 1., 1., 1., 0., 1., 0., 1., 1., 1., 0., 1., 0., 0., 0., 1.,\n",
       "       1., 0., 1., 1., 1., 1., 1., 1., 1., 1., 1., 1., 0., 1., 1., 1., 1.,\n",
       "       0., 0., 1., 1., 1., 1., 1., 0., 1., 0., 1., 1., 1., 1., 1., 1., 0.,\n",
       "       0., 1., 1., 0., 0., 1., 1., 0., 1., 0., 1., 1., 1., 1., 1., 1., 1.,\n",
       "       1., 1., 1., 1., 0., 0., 1., 0., 1., 1., 1., 1., 1., 1., 1., 1., 1.,\n",
       "       0., 1., 0., 0., 0., 0., 0., 0., 0., 0., 1., 1., 0., 1., 0., 0., 1.,\n",
       "       1., 1., 1., 0., 1., 1., 0., 0., 1., 1., 1., 1., 1., 1., 1., 1., 1.,\n",
       "       0., 1., 0., 1., 1., 1., 1., 1., 1., 1., 1., 1., 1., 1., 0., 1., 1.,\n",
       "       0., 1., 0., 1., 1., 1., 0., 1., 1., 1., 0., 1., 0., 1., 1., 0., 1.,\n",
       "       1., 1., 1., 0., 1., 1., 1., 1., 1., 1., 1., 1., 1., 1., 1., 1., 1.,\n",
       "       1., 0., 1., 1., 0.])"
      ]
     },
     "execution_count": 79,
     "metadata": {},
     "output_type": "execute_result"
    }
   ],
   "source": [
    "y_te"
   ]
  },
  {
   "cell_type": "code",
   "execution_count": 80,
   "metadata": {
    "scrolled": true
   },
   "outputs": [
    {
     "data": {
      "text/plain": [
       "array([1., 1., 1., 1., 1., 1., 1., 1., 1., 1., 1., 0., 1., 1., 1., 1., 1.,\n",
       "       1., 1., 1., 1., 1., 1., 1., 1., 1., 1., 1., 1., 1., 1., 1., 1., 1.,\n",
       "       0., 1., 1., 1., 1., 1., 1., 1., 1., 1., 1., 1., 1., 1., 1., 1., 1.,\n",
       "       0., 0., 1., 1., 1., 1., 1., 1., 0., 1., 1., 0., 1., 1., 1., 1., 1.,\n",
       "       1., 1., 1., 1., 1., 0., 1., 1., 1., 1., 1., 1., 0., 1., 1., 1., 1.,\n",
       "       1., 1., 1., 1., 1., 1., 0., 1., 1., 0., 1., 1., 0., 1., 1., 1., 1.,\n",
       "       1., 1., 1., 1., 1., 0., 1., 1., 1., 1., 1., 1., 1., 1., 1., 1., 1.,\n",
       "       1., 0., 1., 1., 1., 1., 1., 1., 1., 1., 1., 1., 0., 1., 1., 1., 1.,\n",
       "       1., 1., 1., 1., 1., 1., 1., 1., 1., 1., 1., 1., 1., 1., 1., 1., 1.,\n",
       "       1., 1., 1., 1., 1., 1., 1., 1., 1., 1., 1., 1., 1., 1., 1., 1., 1.,\n",
       "       1., 0., 1., 1., 0., 1., 1., 0., 1., 1., 1., 1., 1., 1., 1., 1., 1.,\n",
       "       0., 1., 1., 1., 0., 0., 1., 1., 0., 1., 1., 1., 0., 1., 1., 1., 1.,\n",
       "       1., 1., 1., 0., 1., 1., 1., 0., 1., 1., 1., 1., 1., 1., 1., 1., 1.,\n",
       "       0., 1., 0., 1., 1., 1., 1., 1., 1., 1., 1., 1., 1., 1., 1., 1., 1.,\n",
       "       0., 1., 1., 1., 1., 1., 1., 1., 1., 1., 1., 1., 1., 1., 1., 1., 1.,\n",
       "       1., 1., 1., 1., 1., 1., 1., 1., 1., 1., 1., 1., 1., 1., 1., 1., 1.,\n",
       "       1., 0., 1., 1., 1.])"
      ]
     },
     "execution_count": 80,
     "metadata": {},
     "output_type": "execute_result"
    }
   ],
   "source": [
    "pred.flatten().astype(float)"
   ]
  },
  {
   "cell_type": "code",
   "execution_count": 81,
   "metadata": {},
   "outputs": [],
   "source": [
    "importances = sess.run(dfs.weight_layer.w)"
   ]
  },
  {
   "cell_type": "code",
   "execution_count": 85,
   "metadata": {},
   "outputs": [
    {
     "data": {
      "text/plain": [
       "array([ 364,  383,  424,  335,  407,  371,  323,  419,  290,  278,  289,\n",
       "        273,  251,  257,  317,  314,  400,  305,  283,  272,  300,  691,\n",
       "        665,  322,  318,  660,  969,  477,  231,  815,  624, 1043, 1089,\n",
       "        448,  319,  834, 1214, 1447,   13,  100])"
      ]
     },
     "execution_count": 85,
     "metadata": {},
     "output_type": "execute_result"
    }
   ],
   "source": [
    "mask = importances.argsort()[::-1][:40]"
   ]
  },
  {
   "cell_type": "code",
   "execution_count": 82,
   "metadata": {},
   "outputs": [
    {
     "data": {
      "image/png": "[encoded data removed]",
      "text/plain": [
       "<matplotlib.figure.Figure at 0x7f4e868c0978>"
      ]
     },
     "metadata": {},
     "output_type": "display_data"
    }
   ],
   "source": [
    "plt.plot(sorted(abs(importances))[::-1][:100])\n",
    "plt.show()"
   ]
  },
  {
   "cell_type": "code",
   "execution_count": 486,
   "metadata": {},
   "outputs": [
    {
     "data": {
      "text/plain": [
       "[0.043947864,\n",
       " 0.043517802,\n",
       " 0.035599638,\n",
       " 0.03054874,\n",
       " 0.029942408,\n",
       " 0.024042096,\n",
       " 0.022956392,\n",
       " 0.022902142,\n",
       " 0.022251979,\n",
       " 0.021520147,\n",
       " 0.020994166,\n",
       " 0.016128628,\n",
       " 0.015774554,\n",
       " 0.013611497,\n",
       " 0.013058648,\n",
       " 0.011487326,\n",
       " 0.010807884,\n",
       " 0.01039926,\n",
       " 0.0099691935,\n",
       " 0.009339377,\n",
       " 0.009335187,\n",
       " 0.008031922,\n",
       " 0.007830334,\n",
       " 0.0077995034,\n",
       " 0.007034731,\n",
       " 0.0065056654,\n",
       " 0.0057725166,\n",
       " 0.0057263044,\n",
       " 0.004963694,\n",
       " 0.0046621305,\n",
       " 0.0037396562,\n",
       " 0.00345898,\n",
       " 0.0028671261,\n",
       " 0.0028366707,\n",
       " 0.0022553024,\n",
       " 0.0021701925,\n",
       " 0.0016539771,\n",
       " 0.0015091196,\n",
       " 0.0010914928,\n",
       " 0.00103581,\n",
       " 0.0009411759,\n",
       " 0.00087193074,\n",
       " 0.0008696771,\n",
       " 0.0008650388,\n",
       " 0.0007399394,\n",
       " 0.0006875464,\n",
       " 0.000637955,\n",
       " 0.0006377594,\n",
       " 0.00063691364,\n",
       " 0.00063677575,\n",
       " 0.0006332269,\n",
       " 0.00060557656,\n",
       " 0.00058413035,\n",
       " 0.00057808944,\n",
       " 0.000575044,\n",
       " 0.0005419304,\n",
       " 0.00053618243,\n",
       " 0.00049996027,\n",
       " 0.0004913056,\n",
       " 0.0004888583]"
      ]
     },
     "execution_count": 486,
     "metadata": {},
     "output_type": "execute_result"
    }
   ],
   "source": [
    "sorted(abs(importances))[::-1][:60]"
   ]
  },
  {
   "cell_type": "code",
   "execution_count": null,
   "metadata": {},
   "outputs": [],
   "source": []
  },
  {
   "cell_type": "code",
   "execution_count": 109,
   "metadata": {},
   "outputs": [
    {
     "data": {
      "image/png": "[encoded data removed]",
      "text/plain": [
       "<matplotlib.figure.Figure at 0x7f4e6258e7b8>"
      ]
     },
     "metadata": {},
     "output_type": "display_data"
    },
    {
     "name": "stdout",
     "output_type": "stream",
     "text": [
      "early stop\n"
     ]
    }
   ],
   "source": [
    "#def train_network(name, session, feature_mask):\n",
    "name = 'test_9'\n",
    "session = tf.Session()\n",
    "\n",
    "n_features = feature_mask.sum()\n",
    "\n",
    "with tf.variable_scope(name) as train_scope:\n",
    "    ## Initialize network\n",
    "    inp = tf.placeholder(tf.float32, [None, n_features])\n",
    "    dfs = DFS(\"DFS\", n_features)\n",
    "    logits, out = dfs(inp)\n",
    "\n",
    "    ##Prepare target and loss weights\n",
    "    target = tf.placeholder(tf.float32, [None])\n",
    "    loss_weights = tf.placeholder(tf.float32, [None])\n",
    "\n",
    "    ##Loss terms\n",
    "    ce_loss = tf.losses.softmax_cross_entropy(tf.one_hot(tf.cast(target, tf.int32), 2), logits, weights=loss_weights)\n",
    "    features_weights_regularization = 0.1 * dfs.get_weighted_layer_regularization_term(0.5)\n",
    "    network_weights_regularization = 0.0002 * dfs.get_dense_layers_regularization_term(0.5)\n",
    "\n",
    "    loss = ce_loss + features_weights_regularization + network_weights_regularization\n",
    "\n",
    "    optimizer = tf.train.AdamOptimizer()\n",
    "    train_step = optimizer.minimize(loss, var_list=tf.trainable_variables(name))\n",
    "\n",
    "    sess.run(tf.global_variables_initializer())\n",
    "\n",
    "\n",
    "\n",
    "train_ce_loss = []\n",
    "val_ce_loss = []\n",
    "val_auc_scores = []\n",
    "\n",
    "for epoch in range(epochs):\n",
    "    curr_loss = 0\n",
    "\n",
    "    for i, (batch_X, batch_y) in enumerate(iterate_minibatches(X_tr, y_tr, 40)):\n",
    "        batch_weights = np.array([class_weights[y] for y in batch_y])\n",
    "\n",
    "        batch_loss = sess.run([train_step, ce_loss],\n",
    "                              feed_dict={inp : batch_X[:,feature_mask],\n",
    "                                         target: batch_y,\n",
    "                                         loss_weights:batch_weights})\n",
    "\n",
    "        curr_loss += batch_loss[1] * batch_X.shape[0]\n",
    "\n",
    "\n",
    "    val_weights = np.array([class_weights[y] for y in y_te])\n",
    "    val_loss = sess.run(ce_loss,  feed_dict={inp : X_te[:,feature_mask], target: y_te, loss_weights : val_weights})\n",
    "    val_auc = roc_auc_score(y_te, sess.run(out,  feed_dict={inp : X_te[:,feature_mask]})[:,1])\n",
    "\n",
    "    val_ce_loss.append(val_loss)\n",
    "    val_auc_scores.append(val_auc)\n",
    "    train_ce_loss.append(curr_loss / X_tr.shape[0])\n",
    "\n",
    "    \n",
    "    f, (a1, a2) = plt.subplots(2,1,figsize = (10,10))\n",
    "    display.clear_output(wait=True)\n",
    "    a1.plot(train_ce_loss[2:], label='train ce')\n",
    "    a1.plot(val_ce_loss[2:], label = 'val ce')\n",
    "    \n",
    "    a2.plot(val_auc_scores[2:], label='val_auc')\n",
    "\n",
    "    plt.legend()\n",
    "    plt.show()\n",
    "\n",
    "    \n",
    "    if epoch > 40:\n",
    "        if np.argmin(np.array(val_losses[-20:])) == 0:\n",
    "            print(\"early stop\")\n",
    "            break\n",
    "\n",
    "\n",
    "    #zero_weights.append(np.abs(sess.run(weight_layer.w)).min())\n",
    "        #print(batch_loss[1])"
   ]
  },
  {
   "cell_type": "code",
   "execution_count": null,
   "metadata": {},
   "outputs": [],
   "source": []
  }
 ],
 "metadata": {
  "kernelspec": {
   "display_name": "Python 3",
   "language": "python",
   "name": "python3"
  },
  "language_info": {
   "codemirror_mode": {
    "name": "ipython",
    "version": 3
   },
   "file_extension": ".py",
   "mimetype": "text/x-python",
   "name": "python",
   "nbconvert_exporter": "python",
   "pygments_lexer": "ipython3",
   "version": "3.6.3"
  }
 },
 "nbformat": 4,
 "nbformat_minor": 2
}
