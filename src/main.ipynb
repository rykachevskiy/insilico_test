{
 "cells": [
  {
   "cell_type": "code",
   "execution_count": 1,
   "metadata": {},
   "outputs": [
    {
     "name": "stderr",
     "output_type": "stream",
     "text": [
      "/home/anton/anaconda3/lib/python3.6/site-packages/h5py/__init__.py:34: FutureWarning: Conversion of the second argument of issubdtype from `float` to `np.floating` is deprecated. In future, it will be treated as `np.float64 == np.dtype(float).type`.\n",
      "  from ._conv import register_converters as _register_converters\n"
     ]
    }
   ],
   "source": [
    "import numpy as np\n",
    "import pandas as pd\n",
    "import matplotlib.pyplot as plt\n",
    "\n",
    "import tensorflow as tf\n",
    "\n",
    "\n",
    "from IPython import display\n",
    "%matplotlib inline\n",
    "\n",
    "\n",
    "\n",
    "from sklearn.metrics import log_loss, accuracy_score, f1_score, classification_report,classification"
   ]
  },
  {
   "cell_type": "code",
   "execution_count": 2,
   "metadata": {},
   "outputs": [],
   "source": [
    "data = pd.read_csv(\"../data/train.csv\")"
   ]
  },
  {
   "cell_type": "code",
   "execution_count": 3,
   "metadata": {},
   "outputs": [
    {
     "data": {
      "text/plain": [
       "1.0    790\n",
       "0.0    315\n",
       "Name: y, dtype: int64"
      ]
     },
     "execution_count": 3,
     "metadata": {},
     "output_type": "execute_result"
    }
   ],
   "source": [
    "data.y.value_counts()"
   ]
  },
  {
   "cell_type": "code",
   "execution_count": 4,
   "metadata": {},
   "outputs": [
    {
     "name": "stderr",
     "output_type": "stream",
     "text": [
      "/home/anton/anaconda3/lib/python3.6/site-packages/sklearn/cross_validation.py:41: DeprecationWarning: This module was deprecated in version 0.18 in favor of the model_selection module into which all the refactored classes and functions are moved. Also note that the interface of the new CV iterators are different from that of this module. This module will be removed in 0.20.\n",
      "  \"This module will be removed in 0.20.\", DeprecationWarning)\n"
     ]
    }
   ],
   "source": [
    "from sklearn.cross_validation import KFold, train_test_split"
   ]
  },
  {
   "cell_type": "code",
   "execution_count": 5,
   "metadata": {},
   "outputs": [],
   "source": [
    "kfold = KFold(15, 3)"
   ]
  },
  {
   "cell_type": "code",
   "execution_count": 6,
   "metadata": {},
   "outputs": [
    {
     "name": "stdout",
     "output_type": "stream",
     "text": [
      "(array([ 5,  6,  7,  8,  9, 10, 11, 12, 13, 14]), array([0, 1, 2, 3, 4]))\n",
      "(array([ 0,  1,  2,  3,  4, 10, 11, 12, 13, 14]), array([5, 6, 7, 8, 9]))\n",
      "(array([0, 1, 2, 3, 4, 5, 6, 7, 8, 9]), array([10, 11, 12, 13, 14]))\n"
     ]
    }
   ],
   "source": [
    "for idx in kfold:\n",
    "    print(idx)"
   ]
  },
  {
   "cell_type": "code",
   "execution_count": 7,
   "metadata": {},
   "outputs": [],
   "source": [
    "from sklearn.ensemble import RandomForestClassifier"
   ]
  },
  {
   "cell_type": "code",
   "execution_count": 8,
   "metadata": {},
   "outputs": [],
   "source": [
    "rf = RandomForestClassifier(100)"
   ]
  },
  {
   "cell_type": "code",
   "execution_count": 134,
   "metadata": {},
   "outputs": [
    {
     "data": {
      "text/plain": [
       "RandomForestClassifier(bootstrap=True, class_weight=None, criterion='gini',\n",
       "            max_depth=None, max_features='auto', max_leaf_nodes=None,\n",
       "            min_impurity_decrease=0.0, min_impurity_split=None,\n",
       "            min_samples_leaf=1, min_samples_split=2,\n",
       "            min_weight_fraction_leaf=0.0, n_estimators=100, n_jobs=1,\n",
       "            oob_score=False, random_state=None, verbose=0,\n",
       "            warm_start=False)"
      ]
     },
     "execution_count": 134,
     "metadata": {},
     "output_type": "execute_result"
    }
   ],
   "source": [
    "rf.fit(X_tr, y_tr)"
   ]
  },
  {
   "cell_type": "code",
   "execution_count": 135,
   "metadata": {},
   "outputs": [],
   "source": [
    "rf_pred = rf.predict_proba(X_te)"
   ]
  },
  {
   "cell_type": "code",
   "execution_count": null,
   "metadata": {},
   "outputs": [],
   "source": []
  },
  {
   "cell_type": "code",
   "execution_count": 136,
   "metadata": {},
   "outputs": [
    {
     "data": {
      "text/plain": [
       "0.3163935969124363"
      ]
     },
     "execution_count": 136,
     "metadata": {},
     "output_type": "execute_result"
    }
   ],
   "source": [
    "log_loss(y_te, rf_pred)"
   ]
  },
  {
   "cell_type": "code",
   "execution_count": 137,
   "metadata": {},
   "outputs": [
    {
     "data": {
      "text/plain": [
       "0.8664259927797834"
      ]
     },
     "execution_count": 137,
     "metadata": {},
     "output_type": "execute_result"
    }
   ],
   "source": [
    "accuracy_score(y_te, rf_pred[:,0] < 0.5)"
   ]
  },
  {
   "cell_type": "code",
   "execution_count": 138,
   "metadata": {
    "scrolled": true
   },
   "outputs": [
    {
     "data": {
      "image/png": "[encoded data removed]",
      "text/plain": [
       "<matplotlib.figure.Figure at 0x7f1cd82fbcc0>"
      ]
     },
     "metadata": {},
     "output_type": "display_data"
    }
   ],
   "source": [
    "plt.plot(sorted(rf.feature_importances_)[::-1][:100])\n",
    "plt.show()"
   ]
  },
  {
   "cell_type": "code",
   "execution_count": 141,
   "metadata": {},
   "outputs": [],
   "source": [
    "rf_feauture_mask = rf.feature_importances_ > 0.002"
   ]
  },
  {
   "cell_type": "code",
   "execution_count": 142,
   "metadata": {},
   "outputs": [
    {
     "data": {
      "text/plain": [
       "93"
      ]
     },
     "execution_count": 142,
     "metadata": {},
     "output_type": "execute_result"
    }
   ],
   "source": [
    "rf_feauture_mask.sum()"
   ]
  },
  {
   "cell_type": "code",
   "execution_count": 10,
   "metadata": {},
   "outputs": [],
   "source": [
    "X = data[data.columns[:-1]].values\n",
    "y = data.y.values"
   ]
  },
  {
   "cell_type": "code",
   "execution_count": 11,
   "metadata": {},
   "outputs": [],
   "source": [
    "X_tr, X_te, y_tr, y_te = train_test_split(X, y)"
   ]
  },
  {
   "cell_type": "code",
   "execution_count": 12,
   "metadata": {},
   "outputs": [],
   "source": [
    "class_weights = {0.: (y_tr == 0).sum() / y_tr.shape[0], 1.: (y_tr == 1).sum() / y_tr.shape[0]}"
   ]
  },
  {
   "cell_type": "code",
   "execution_count": 15,
   "metadata": {
    "scrolled": true
   },
   "outputs": [
    {
     "data": {
      "text/plain": [
       "{0.0: 0.2693236714975845, 1.0: 0.7306763285024155}"
      ]
     },
     "execution_count": 15,
     "metadata": {},
     "output_type": "execute_result"
    }
   ],
   "source": [
    "class_weights"
   ]
  },
  {
   "cell_type": "code",
   "execution_count": 16,
   "metadata": {},
   "outputs": [],
   "source": [
    "class WeightLayer:\n",
    "    def __init__(self, shape, name, w=None):\n",
    "        self.shape = shape\n",
    "        self.name = name\n",
    "        \n",
    "        with tf.variable_scope(name) as scope:\n",
    "            if w is None:\n",
    "                self.w = tf.get_variable('w', shape=shape, initializer=None, trainable=True)\n",
    "            else:\n",
    "                self.w = w\n",
    "        self.scope = scope\n",
    "        \n",
    "    def __call__(self, inp):\n",
    "        with tf.variable_scope(self.scope):\n",
    "            with tf.name_scope(self.scope.original_name_scope):\n",
    "                out = self.w * inp\n",
    "                return out                "
   ]
  },
  {
   "cell_type": "code",
   "execution_count": 531,
   "metadata": {},
   "outputs": [],
   "source": [
    "class DFS:\n",
    "    def __init__(self, name, input_shape):\n",
    "        self.name = name\n",
    "        self.input_shape = input_shape\n",
    "        \n",
    "        with tf.variable_scope(name) as scope:\n",
    "            self.weight_layer = WeightLayer(input_shape, 'wl')\n",
    "\n",
    "            self.dense_array = [Dense(256, activation=tf.nn.relu),\n",
    "                                Dense(256, activation=tf.nn.relu),\n",
    "                                Dense(2, activation=None)]\n",
    "        self.scope = scope\n",
    "    \n",
    "    def __call__(self, inp):\n",
    "        with tf.variable_scope(self.scope):\n",
    "            with tf.name_scope(self.scope.original_name_scope):\n",
    "                weight_layer_out = self.weight_layer(inp)\n",
    "                next_var = weight_layer_out\n",
    "                for layer in self.dense_array:\n",
    "                    next_var = layer(next_var)\n",
    "                \n",
    "                logits = next_var\n",
    "                out = tf.nn.softmax(logits)\n",
    "        return logits, out\n",
    "\n",
    "    def get_weighted_layer_regularization_term(self, alpha):\n",
    "        with tf.variable_scope(\"weighted_layer_regularization\"):\n",
    "            return (1 - alpha) * tf.reduce_sum(tf.abs(self.weight_layer.w)) +\\\n",
    "                    alpha * tf.reduce_sum(tf.square(self.weight_layer.w))\n",
    "        \n",
    "    def get_dense_layers_regularization_term(self, alpha):\n",
    "        with tf.variable_scope(\"dense_layers_regularization\"):\n",
    "            r_term = 0\n",
    "            for layer in self.dense_array:\n",
    "                r_term += (1-alpha) * tf.reduce_sum(tf.abs(layer.weights[0])) +\\\n",
    "                            alpha * tf.reduce_sum(tf.square(layer.weights[0]))\n",
    "\n",
    "\n",
    "            return r_term"
   ]
  },
  {
   "cell_type": "code",
   "execution_count": 532,
   "metadata": {},
   "outputs": [],
   "source": [
    "from keras.layers import Dense"
   ]
  },
  {
   "cell_type": "code",
   "execution_count": 547,
   "metadata": {},
   "outputs": [],
   "source": [
    "tf.reset_default_graph()\n",
    "sess = tf.Session()"
   ]
  },
  {
   "cell_type": "code",
   "execution_count": 548,
   "metadata": {},
   "outputs": [],
   "source": [
    "feature_mask = np.ones(X.shape[1]).astype(bool)\n",
    "#feature_mask = rf_feauture_mask\n",
    "n_features = feature_mask.sum()\n",
    "\n",
    "inp = tf.placeholder(tf.float32, [None, n_features])#X.shape[1]])\n",
    "\n",
    "dfs = DFS(\"DFS\", n_features)\n",
    "\n",
    "logits, out = dfs(inp)"
   ]
  },
  {
   "cell_type": "code",
   "execution_count": 549,
   "metadata": {},
   "outputs": [],
   "source": [
    "target = tf.placeholder(tf.float32, [None])\n",
    "loss_weights = tf.placeholder(tf.float32, [None])"
   ]
  },
  {
   "cell_type": "code",
   "execution_count": 550,
   "metadata": {},
   "outputs": [],
   "source": [
    "ce_loss = tf.losses.softmax_cross_entropy(tf.one_hot(tf.cast(target, tf.int32), 2), logits, weights=loss_weights)"
   ]
  },
  {
   "cell_type": "code",
   "execution_count": 551,
   "metadata": {},
   "outputs": [],
   "source": [
    "#regularization_term = 0.001 * tf.reduce_sum(tf.abs(weight_layer.w))"
   ]
  },
  {
   "cell_type": "code",
   "execution_count": 552,
   "metadata": {},
   "outputs": [
    {
     "data": {
      "text/plain": [
       "[<tf.Variable 'DFS/wl/w:0' shape=(1524,) dtype=float32_ref>,\n",
       " <tf.Variable 'DFS/dense_1/kernel:0' shape=(1524, 256) dtype=float32_ref>,\n",
       " <tf.Variable 'DFS/dense_1/bias:0' shape=(256,) dtype=float32_ref>,\n",
       " <tf.Variable 'DFS/dense_2/kernel:0' shape=(256, 256) dtype=float32_ref>,\n",
       " <tf.Variable 'DFS/dense_2/bias:0' shape=(256,) dtype=float32_ref>,\n",
       " <tf.Variable 'DFS/dense_3/kernel:0' shape=(256, 2) dtype=float32_ref>,\n",
       " <tf.Variable 'DFS/dense_3/bias:0' shape=(2,) dtype=float32_ref>]"
      ]
     },
     "execution_count": 552,
     "metadata": {},
     "output_type": "execute_result"
    }
   ],
   "source": [
    "tf.trainable_variables(\"DFS\")"
   ]
  },
  {
   "cell_type": "code",
   "execution_count": 553,
   "metadata": {},
   "outputs": [],
   "source": [
    "# weighted_layer_regularization = tf.reduce_sum(tf.abs(dfs.weight_layer.w)) + tf.reduce_sum(tf.square(dfs.weight_layer.w))\n",
    "# weighted_layer_regularization = 0.05 * weighted_layer_regularization"
   ]
  },
  {
   "cell_type": "code",
   "execution_count": 554,
   "metadata": {},
   "outputs": [],
   "source": [
    "# regularization = 0#tf.reduce_sum(tf.abs(dfs.weight_layer.w)) + tf.reduce_sum(tf.square(dfs.weight_layer.w))\n",
    "# for layer in dfs.dense_array:\n",
    "#     regularization += tf.reduce_sum(tf.abs(layer.weights[0])) + tf.reduce_sum(tf.square(layer.weights[0]))\n",
    "# regularization = 0.0001 * regularization"
   ]
  },
  {
   "cell_type": "code",
   "execution_count": 555,
   "metadata": {},
   "outputs": [],
   "source": [
    "loss = ce_loss + 0.1 * dfs.get_weighted_layer_regularization_term(0.5) +  0.0002 * dfs.get_dense_layers_regularization_term(0.5)"
   ]
  },
  {
   "cell_type": "code",
   "execution_count": 556,
   "metadata": {},
   "outputs": [],
   "source": [
    "optimizer = tf.train.AdamOptimizer()\n",
    "train_step = optimizer.minimize(loss,var_list=tf.trainable_variables())"
   ]
  },
  {
   "cell_type": "code",
   "execution_count": 557,
   "metadata": {},
   "outputs": [],
   "source": [
    "sess.run(tf.global_variables_initializer())"
   ]
  },
  {
   "cell_type": "code",
   "execution_count": 558,
   "metadata": {},
   "outputs": [],
   "source": [
    "gr = tf.get_default_graph()\n",
    "\n",
    "writer = tf.summary.FileWriter(\"../tf_logs\", gr)"
   ]
  },
  {
   "cell_type": "code",
   "execution_count": 516,
   "metadata": {},
   "outputs": [],
   "source": [
    "#sess.run(weighted_layer_regularization,  feed_dict={inp : X_te[:,feature_mask], target: y_te.reshape(-1, 1), loss_weights : val_weights})"
   ]
  },
  {
   "cell_type": "code",
   "execution_count": 517,
   "metadata": {},
   "outputs": [],
   "source": [
    "#sess.run(regularization,  feed_dict={inp : X_te[:,feature_mask], target: y_te.reshape(-1, 1), loss_weights : val_weights})"
   ]
  },
  {
   "cell_type": "code",
   "execution_count": 518,
   "metadata": {},
   "outputs": [
    {
     "data": {
      "text/plain": [
       "array([1., 1., 1., 1., 1., 1., 1., 1., 1., 1.], dtype=float32)"
      ]
     },
     "execution_count": 518,
     "metadata": {},
     "output_type": "execute_result"
    }
   ],
   "source": [
    "sess.run(loss_weights, feed_dict={loss_weights : np.ones(10)})"
   ]
  },
  {
   "cell_type": "code",
   "execution_count": 519,
   "metadata": {},
   "outputs": [],
   "source": [
    "def iterate_minibatches(x, y, batchsize, shuffle=True):\n",
    "    if shuffle:\n",
    "        indices = np.arange(y.shape[0])\n",
    "        np.random.shuffle(indices)\n",
    "    for start_idx in range(0, y.shape[0] - batchsize + 1, batchsize):\n",
    "        if shuffle:\n",
    "            excerpt = indices[start_idx:start_idx + batchsize]\n",
    "        else:\n",
    "            excerpt = slice(start_idx, start_idx + batchsize)\n",
    "        yield x[excerpt], y[excerpt]"
   ]
  },
  {
   "cell_type": "code",
   "execution_count": 520,
   "metadata": {},
   "outputs": [],
   "source": [
    "train_losses = []\n",
    "train_ce = []\n",
    "train_r1 = []\n",
    "train_r2 = []\n",
    "\n",
    "val_losses = []\n",
    "val_x = []\n",
    "n = 5\n",
    "curr_loss = 0\n"
   ]
  },
  {
   "cell_type": "code",
   "execution_count": 521,
   "metadata": {},
   "outputs": [],
   "source": [
    "epochs = 300"
   ]
  },
  {
   "cell_type": "code",
   "execution_count": 522,
   "metadata": {},
   "outputs": [],
   "source": [
    "zero_weights = []"
   ]
  },
  {
   "cell_type": "code",
   "execution_count": 523,
   "metadata": {},
   "outputs": [],
   "source": [
    "curr_loss = np.zeros(4)"
   ]
  },
  {
   "cell_type": "code",
   "execution_count": 524,
   "metadata": {},
   "outputs": [
    {
     "data": {
      "text/plain": [
       "array([0.26932367, 0.73067633, 0.26932367, 0.73067633, 0.26932367,\n",
       "       0.73067633, 0.73067633, 0.73067633, 0.73067633, 0.73067633,\n",
       "       0.73067633, 0.73067633, 0.73067633, 0.73067633, 0.73067633,\n",
       "       0.73067633, 0.73067633, 0.73067633, 0.73067633, 0.73067633,\n",
       "       0.73067633, 0.73067633, 0.73067633, 0.73067633, 0.73067633,\n",
       "       0.73067633, 0.73067633, 0.73067633, 0.26932367, 0.73067633,\n",
       "       0.73067633, 0.73067633, 0.73067633, 0.73067633, 0.73067633,\n",
       "       0.26932367, 0.73067633, 0.73067633, 0.73067633, 0.73067633])"
      ]
     },
     "execution_count": 524,
     "metadata": {},
     "output_type": "execute_result"
    }
   ],
   "source": [
    "batch_weights"
   ]
  },
  {
   "cell_type": "code",
   "execution_count": 527,
   "metadata": {},
   "outputs": [
    {
     "data": {
      "image/png": "[encoded data removed]",
      "text/plain": [
       "<matplotlib.figure.Figure at 0x7f1c92195ba8>"
      ]
     },
     "metadata": {},
     "output_type": "display_data"
    },
    {
     "name": "stdout",
     "output_type": "stream",
     "text": [
      "early stop\n"
     ]
    }
   ],
   "source": [
    "for epoch in range(epochs):\n",
    "    for i, (batch_X, batch_y) in enumerate(iterate_minibatches(X_tr, y_tr, 40)):\n",
    "        batch_weights = np.array([class_weights[y] for y in batch_y])#.flatten()#.reshape(-1,1)\n",
    "\n",
    "        batch_loss = sess.run([train_step, loss, ce_loss, weighted_layer_regularization, regularization],\n",
    "                              feed_dict={inp : batch_X[:,feature_mask],\n",
    "                                         target: batch_y,\n",
    "                                         loss_weights:batch_weights})\n",
    "        curr_loss += np.array(batch_loss[1:])\n",
    "    \n",
    "    curr_loss /= i\n",
    "    train_losses.append(curr_loss[0])\n",
    "    train_ce.append(curr_loss[1])\n",
    "    train_r1.append(curr_loss[2])\n",
    "    train_r2.append(curr_loss[3])\n",
    "    \n",
    "    curr_loss = np.zeros(4)\n",
    "          \n",
    "        \n",
    "    val_weights = np.array([class_weights[y] for y in y_te])#.reshape(-1,1)\n",
    "    val_loss = sess.run(ce_loss,  feed_dict={inp : X_te[:,feature_mask], target: y_te, loss_weights : val_weights})\n",
    "    val_losses.append(val_loss)\n",
    "    \n",
    "    display.clear_output(wait=True)\n",
    "    plt.plot(train_losses[n:], label='train')\n",
    "    plt.plot(train_ce[n:], label='train ce')\n",
    "    plt.plot(train_r1[n:], label='train r1')\n",
    "    plt.plot(train_r2[n:], label='train r2')\n",
    "    \n",
    "    plt.plot(val_losses[n:], label='test')\n",
    "    plt.legend()\n",
    "    plt.show()\n",
    "    \n",
    "    if epoch > 40:\n",
    "        if np.argmin(np.array(val_losses[-20:])) == 0:\n",
    "            print(\"early stop\")\n",
    "            break\n",
    "            \n",
    "    \n",
    "    #zero_weights.append(np.abs(sess.run(weight_layer.w)).min())\n",
    "        #print(batch_loss[1])"
   ]
  },
  {
   "cell_type": "code",
   "execution_count": 480,
   "metadata": {},
   "outputs": [
    {
     "data": {
      "text/plain": [
       "array([0.26797467, 0.32503754, 0.31960326, 0.32971728, 0.33829516,\n",
       "       0.3634641 , 0.37549177, 0.3775937 , 0.4053882 , 0.41718352,\n",
       "       0.40912515, 0.39830035, 0.37151688, 0.36609843, 0.3669162 ,\n",
       "       0.42048326, 0.38938305, 0.40360278, 0.4162744 , 0.4514328 ],\n",
       "      dtype=float32)"
      ]
     },
     "execution_count": 480,
     "metadata": {},
     "output_type": "execute_result"
    }
   ],
   "source": [
    "np.array(val_losses[-20:])  "
   ]
  },
  {
   "cell_type": "code",
   "execution_count": 481,
   "metadata": {},
   "outputs": [],
   "source": [
    "out_ = tf.nn.softmax(out)"
   ]
  },
  {
   "cell_type": "code",
   "execution_count": 528,
   "metadata": {},
   "outputs": [
    {
     "name": "stdout",
     "output_type": "stream",
     "text": [
      "0.7978339350180506\n",
      "0.8634146341463413\n",
      "             precision    recall  f1-score   support\n",
      "\n",
      "        0.0       0.85      0.48      0.61        92\n",
      "        1.0       0.79      0.96      0.86       185\n",
      "\n",
      "avg / total       0.81      0.80      0.78       277\n",
      "\n",
      "0.4782608695652174 0.9567567567567568\n"
     ]
    }
   ],
   "source": [
    "pred = (sess.run(out, feed_dict={inp:X_te[:,feature_mask]}) > 0.5).astype(int)[:,1]\n",
    "\n",
    "print(accuracy_score(y_te, pred))\n",
    "print(f1_score(y_te, pred))\n",
    "\n",
    "print(classification_report(y_te, pred))\n",
    "#print(classification.zero_one_loss(y_te, pred))\n",
    "\n",
    "mask = y_te < 0.5\n",
    "\n",
    "print(accuracy_score(y_te[mask], pred[mask]), accuracy_score(y_te[np.logical_not(mask)], pred[np.logical_not(mask)]))"
   ]
  },
  {
   "cell_type": "code",
   "execution_count": 529,
   "metadata": {},
   "outputs": [
    {
     "data": {
      "text/plain": [
       "array([0., 0., 1., 0., 1., 0., 0., 1., 1., 1., 1., 0., 1., 0., 1., 0., 1.,\n",
       "       1., 0., 0., 1., 0., 0., 1., 1., 1., 1., 1., 1., 1., 1., 1., 0., 0.,\n",
       "       1., 1., 1., 1., 0., 0., 0., 1., 1., 1., 1., 1., 1., 0., 1., 1., 1.,\n",
       "       1., 0., 1., 0., 1., 1., 0., 1., 0., 1., 0., 1., 1., 1., 0., 0., 1.,\n",
       "       0., 1., 1., 1., 1., 1., 1., 1., 1., 0., 1., 1., 0., 1., 0., 0., 0.,\n",
       "       1., 1., 0., 1., 1., 0., 0., 0., 1., 1., 1., 1., 0., 1., 0., 1., 1.,\n",
       "       1., 0., 1., 0., 1., 0., 0., 0., 1., 0., 0., 1., 0., 1., 0., 1., 1.,\n",
       "       1., 1., 0., 1., 1., 1., 1., 1., 1., 1., 0., 1., 1., 1., 1., 0., 1.,\n",
       "       1., 1., 1., 1., 0., 1., 0., 0., 1., 1., 1., 1., 1., 0., 0., 1., 1.,\n",
       "       1., 1., 1., 1., 1., 0., 0., 0., 1., 1., 1., 1., 1., 1., 1., 1., 1.,\n",
       "       1., 1., 1., 1., 1., 0., 1., 1., 1., 1., 1., 0., 1., 1., 1., 0., 0.,\n",
       "       1., 1., 1., 1., 0., 0., 1., 0., 0., 1., 1., 1., 1., 1., 0., 1., 1.,\n",
       "       0., 0., 1., 1., 1., 1., 1., 0., 1., 1., 0., 0., 0., 1., 0., 0., 1.,\n",
       "       0., 0., 1., 0., 0., 1., 0., 0., 0., 0., 1., 1., 1., 1., 1., 0., 0.,\n",
       "       1., 1., 1., 1., 1., 1., 1., 1., 1., 1., 0., 1., 1., 0., 1., 0., 0.,\n",
       "       0., 1., 0., 1., 0., 1., 1., 1., 1., 1., 1., 1., 1., 1., 1., 1., 1.,\n",
       "       1., 1., 1., 0., 1.])"
      ]
     },
     "execution_count": 529,
     "metadata": {},
     "output_type": "execute_result"
    }
   ],
   "source": [
    "y_te"
   ]
  },
  {
   "cell_type": "code",
   "execution_count": 530,
   "metadata": {
    "scrolled": true
   },
   "outputs": [
    {
     "data": {
      "text/plain": [
       "array([1., 1., 1., 1., 1., 0., 1., 1., 1., 1., 1., 0., 1., 1., 1., 0., 1.,\n",
       "       1., 0., 0., 1., 0., 1., 1., 1., 1., 0., 1., 1., 1., 1., 1., 1., 0.,\n",
       "       1., 1., 1., 1., 1., 1., 0., 1., 1., 1., 1., 1., 1., 1., 1., 1., 1.,\n",
       "       1., 0., 1., 1., 1., 1., 0., 1., 1., 1., 1., 1., 1., 0., 0., 1., 1.,\n",
       "       1., 1., 1., 1., 1., 1., 1., 1., 1., 1., 1., 1., 1., 1., 0., 0., 0.,\n",
       "       1., 0., 1., 1., 1., 0., 1., 0., 1., 1., 1., 1., 1., 1., 1., 1., 1.,\n",
       "       1., 1., 1., 1., 1., 1., 0., 1., 1., 1., 1., 1., 0., 1., 1., 1., 1.,\n",
       "       1., 1., 1., 1., 1., 1., 1., 1., 1., 1., 0., 1., 1., 1., 1., 1., 1.,\n",
       "       1., 1., 1., 1., 1., 1., 1., 0., 1., 1., 1., 1., 0., 1., 1., 1., 1.,\n",
       "       1., 1., 1., 1., 1., 0., 0., 0., 1., 1., 1., 1., 1., 1., 1., 1., 1.,\n",
       "       1., 1., 1., 1., 0., 1., 1., 1., 1., 1., 1., 1., 1., 1., 1., 0., 0.,\n",
       "       1., 1., 1., 1., 1., 1., 1., 0., 0., 1., 1., 1., 1., 1., 1., 1., 1.,\n",
       "       0., 1., 1., 1., 1., 1., 1., 0., 1., 1., 1., 1., 0., 1., 1., 1., 1.,\n",
       "       1., 0., 0., 0., 0., 1., 0., 0., 0., 0., 1., 1., 1., 1., 1., 0., 1.,\n",
       "       1., 1., 1., 1., 1., 1., 1., 1., 1., 1., 0., 1., 1., 0., 1., 0., 1.,\n",
       "       0., 1., 1., 1., 0., 1., 0., 1., 1., 1., 1., 1., 1., 1., 1., 1., 1.,\n",
       "       1., 0., 1., 0., 1.])"
      ]
     },
     "execution_count": 530,
     "metadata": {},
     "output_type": "execute_result"
    }
   ],
   "source": [
    "pred.flatten().astype(float)"
   ]
  },
  {
   "cell_type": "code",
   "execution_count": 484,
   "metadata": {},
   "outputs": [],
   "source": [
    "importances = sess.run(dfs.weight_layer.w)"
   ]
  },
  {
   "cell_type": "code",
   "execution_count": 485,
   "metadata": {},
   "outputs": [
    {
     "data": {
      "image/png": "[encoded data removed]",
      "text/plain": [
       "<matplotlib.figure.Figure at 0x7f1c93f798d0>"
      ]
     },
     "metadata": {},
     "output_type": "display_data"
    }
   ],
   "source": [
    "plt.plot(sorted(abs(importances))[::-1][:100])\n",
    "plt.show()"
   ]
  },
  {
   "cell_type": "code",
   "execution_count": 486,
   "metadata": {},
   "outputs": [
    {
     "data": {
      "text/plain": [
       "[0.043947864,\n",
       " 0.043517802,\n",
       " 0.035599638,\n",
       " 0.03054874,\n",
       " 0.029942408,\n",
       " 0.024042096,\n",
       " 0.022956392,\n",
       " 0.022902142,\n",
       " 0.022251979,\n",
       " 0.021520147,\n",
       " 0.020994166,\n",
       " 0.016128628,\n",
       " 0.015774554,\n",
       " 0.013611497,\n",
       " 0.013058648,\n",
       " 0.011487326,\n",
       " 0.010807884,\n",
       " 0.01039926,\n",
       " 0.0099691935,\n",
       " 0.009339377,\n",
       " 0.009335187,\n",
       " 0.008031922,\n",
       " 0.007830334,\n",
       " 0.0077995034,\n",
       " 0.007034731,\n",
       " 0.0065056654,\n",
       " 0.0057725166,\n",
       " 0.0057263044,\n",
       " 0.004963694,\n",
       " 0.0046621305,\n",
       " 0.0037396562,\n",
       " 0.00345898,\n",
       " 0.0028671261,\n",
       " 0.0028366707,\n",
       " 0.0022553024,\n",
       " 0.0021701925,\n",
       " 0.0016539771,\n",
       " 0.0015091196,\n",
       " 0.0010914928,\n",
       " 0.00103581,\n",
       " 0.0009411759,\n",
       " 0.00087193074,\n",
       " 0.0008696771,\n",
       " 0.0008650388,\n",
       " 0.0007399394,\n",
       " 0.0006875464,\n",
       " 0.000637955,\n",
       " 0.0006377594,\n",
       " 0.00063691364,\n",
       " 0.00063677575,\n",
       " 0.0006332269,\n",
       " 0.00060557656,\n",
       " 0.00058413035,\n",
       " 0.00057808944,\n",
       " 0.000575044,\n",
       " 0.0005419304,\n",
       " 0.00053618243,\n",
       " 0.00049996027,\n",
       " 0.0004913056,\n",
       " 0.0004888583]"
      ]
     },
     "execution_count": 486,
     "metadata": {},
     "output_type": "execute_result"
    }
   ],
   "source": [
    "sorted(abs(importances))[::-1][:60]"
   ]
  },
  {
   "cell_type": "code",
   "execution_count": null,
   "metadata": {},
   "outputs": [],
   "source": []
  },
  {
   "cell_type": "code",
   "execution_count": null,
   "metadata": {},
   "outputs": [],
   "source": []
  }
 ],
 "metadata": {
  "kernelspec": {
   "display_name": "Python 3",
   "language": "python",
   "name": "python3"
  },
  "language_info": {
   "codemirror_mode": {
    "name": "ipython",
    "version": 3
   },
   "file_extension": ".py",
   "mimetype": "text/x-python",
   "name": "python",
   "nbconvert_exporter": "python",
   "pygments_lexer": "ipython3",
   "version": "3.6.3"
  }
 },
 "nbformat": 4,
 "nbformat_minor": 2
}
